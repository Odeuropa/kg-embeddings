{
 "cells": [
  {
   "cell_type": "code",
   "execution_count": 1,
   "id": "e9a7c941-7ee3-42b1-a6aa-48d3e5f53f39",
   "metadata": {},
   "outputs": [],
   "source": [
    "from gensim.models import KeyedVectors\n",
    "from SPARQLWrapper import SPARQLWrapper, JSON\n",
    "\n",
    "sparql = SPARQLWrapper(\"http://data.odeuropa.eu/repositories/odeuropa\")\n",
    "sparql.setReturnFormat(JSON)"
   ]
  },
  {
   "cell_type": "code",
   "execution_count": 2,
   "id": "a28b5799-2d53-40c6-9094-314d8fb234f0",
   "metadata": {},
   "outputs": [],
   "source": [
    "def label(uri):\n",
    "    q = '''\n",
    "        PREFIX skos: <http://www.w3.org/2004/02/skos/core#>\n",
    "        PREFIX onto: <http://www.ontotext.com/>\n",
    "        PREFIX rdfs: <http://www.w3.org/2000/01/rdf-schema#>\n",
    "\n",
    "        SELECT ?label\n",
    "        FROM onto:explicit\n",
    "        WHERE {\n",
    "            <%s> skos:prefLabel|rdfs:label ?label\n",
    "        }\n",
    "    ''' % uri\n",
    "    sparql.setQuery(q)\n",
    "    ret = sparql.queryAndConvert()\n",
    "    data = [l['label'] for l in ret['results']['bindings']]\n",
    "    if len(data) < 1:\n",
    "        return \"smell\"\n",
    "    data.sort(key=lambda l: ('aaa' if l['xml:lang']== 'en' else l['xml:lang']) if 'xml:lang' in l else 0)\n",
    "    return data[0]['value']"
   ]
  },
  {
   "cell_type": "code",
   "execution_count": 3,
   "id": "1fe47337-baa8-4cec-909b-6d3f0a59aef2",
   "metadata": {},
   "outputs": [],
   "source": [
    "voc_emb_path = './embeddings/voc/embeddings.txt'\n",
    "voc_emb = KeyedVectors.load_word2vec_format(voc_emb_path, binary=False, no_header=True)"
   ]
  },
  {
   "cell_type": "code",
   "execution_count": 4,
   "id": "423a76f1-6e62-4e67-a983-6bc93ec4b2b2",
   "metadata": {},
   "outputs": [
    {
     "data": {
      "text/plain": [
       "['0.9865   http://data.odeuropa.eu/vocabulary/olfactory-objects/399   Reukwerk',\n",
       " '0.9706   http://data.odeuropa.eu/vocabulary/olfactory-objects/172   Patchouli',\n",
       " '0.9704   http://data.odeuropa.eu/vocabulary/olfactory-objects/25   Candle',\n",
       " '0.9695   http://data.odeuropa.eu/vocabulary/olfactory-objects/48   Geosmin',\n",
       " '0.9690   http://data.odeuropa.eu/vocabulary/olfactory-objects/245   Wet earth',\n",
       " '0.9678   http://data.odeuropa.eu/vocabulary/olfactory-objects/533   Body',\n",
       " '0.9668   http://vocab.getty.edu/aat/300011851   parchment (animal material)',\n",
       " '0.9660   http://data.odeuropa.eu/vocabulary/olfactory-objects/15   Beer',\n",
       " '0.9648   http://data.odeuropa.eu/vocabulary/olfactory-gestures/26   Garbage collecting',\n",
       " '0.9646   http://data.odeuropa.eu/vocabulary/olfactory-objects/166   Vomit']"
      ]
     },
     "execution_count": 4,
     "metadata": {},
     "output_type": "execute_result"
    }
   ],
   "source": [
    "res = voc_emb.most_similar('http://data.odeuropa.eu/vocabulary/olfactory-objects/269', topn=10) # incense\n",
    "['%.4f   %s   %s' % (r[1], r[0], label(r[0])) for r in res]"
   ]
  },
  {
   "cell_type": "code",
   "execution_count": 5,
   "id": "e836b668-2559-43f1-8dc0-75793e3f4385",
   "metadata": {},
   "outputs": [],
   "source": [
    "smell_emb_path = './embeddings/smells/embeddings.txt'\n",
    "smell_emb = KeyedVectors.load_word2vec_format(smell_emb_path, binary=False, no_header=True)"
   ]
  },
  {
   "cell_type": "code",
   "execution_count": 6,
   "id": "0afd4dde-018f-421d-a586-6dceb599c6aa",
   "metadata": {},
   "outputs": [
    {
     "data": {
      "text/plain": [
       "['0.4490   http://data.odeuropa.eu/smell/3943e0da-86c5-5a89-9d5e-3dcaf2b2cc35   odours',\n",
       " '0.4081   http://data.odeuropa.eu/smell/e6bf7e6d-3ac7-5b1f-a662-e45813eaa2cd   smell',\n",
       " '0.4077   http://data.odeuropa.eu/smell/e40db11a-1250-5d92-bbf0-34359070b89b   stoffel',\n",
       " '0.4021   http://data.odeuropa.eu/smell/d8b49a00-d3be-5dd1-bd20-8b564b929ce0   smell',\n",
       " '0.4000   http://data.odeuropa.eu/smell/d83c1772-b006-5931-ba2e-937dc1ecb4c5   stinke',\n",
       " '0.3855   http://data.odeuropa.eu/smell/14e51303-d75e-5b38-b5b9-394a1d2f0e60   scent',\n",
       " '0.3808   http://data.odeuropa.eu/smell/c8d43d04-56ac-5949-bdcd-e0c1be33e5a9   fragrance',\n",
       " '0.3803   http://data.odeuropa.eu/smell/5e037566-5c74-5829-85a2-92cab03682f8   odour',\n",
       " '0.3794   http://data.odeuropa.eu/smell/1a1bc6df-6938-51d8-a59f-2cf1f0685dfa   Embassadour',\n",
       " '0.3785   http://data.odeuropa.eu/smell/061a7641-cfd8-5bf6-8187-4870f88301e4   odour']"
      ]
     },
     "execution_count": 6,
     "metadata": {},
     "output_type": "execute_result"
    }
   ],
   "source": [
    "res = smell_emb.most_similar('http://data.odeuropa.eu/smell/b6cdd9fe-a1a1-5aa3-bf4c-162a5c2d1ead', topn=10)\n",
    "['%.4f   %s   %s' % (r[1], r[0], label(r[0])) for r in res]"
   ]
  },
  {
   "cell_type": "code",
   "execution_count": null,
   "id": "55f2796f-457c-4ef7-adcd-41aec3c3ad34",
   "metadata": {},
   "outputs": [],
   "source": []
  }
 ],
 "metadata": {
  "kernelspec": {
   "display_name": "Python 3 (ipykernel)",
   "language": "python",
   "name": "python3"
  },
  "language_info": {
   "codemirror_mode": {
    "name": "ipython",
    "version": 3
   },
   "file_extension": ".py",
   "mimetype": "text/x-python",
   "name": "python",
   "nbconvert_exporter": "python",
   "pygments_lexer": "ipython3",
   "version": "3.9.6"
  }
 },
 "nbformat": 4,
 "nbformat_minor": 5
}
