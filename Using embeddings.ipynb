{
 "cells": [
  {
   "cell_type": "markdown",
   "id": "fd2baee5-5e2b-4fd7-8c6a-e58f3294530e",
   "metadata": {},
   "source": [
    "# Use Smell Embeddings\n",
    "\n",
    "This notebook will allow you to load pre-trained RDF2vec embeddings computed on the [European Olfactory Knowledge Graph](http://data.odeuropa.eu) by [Odeuropa](http://odeuropa.eu)"
   ]
  },
  {
   "cell_type": "code",
   "execution_count": 44,
   "id": "e9a7c941-7ee3-42b1-a6aa-48d3e5f53f39",
   "metadata": {},
   "outputs": [],
   "source": [
    "from os import path\n",
    "import pandas as pd\n",
    "from gensim.models import KeyedVectors\n",
    "from SPARQLWrapper import SPARQLWrapper, JSON\n",
    "\n",
    "sparql = SPARQLWrapper(\"http://data.odeuropa.eu/repositories/odeuropa\")\n",
    "sparql.setReturnFormat(JSON)"
   ]
  },
  {
   "cell_type": "code",
   "execution_count": 45,
   "id": "a28b5799-2d53-40c6-9094-314d8fb234f0",
   "metadata": {},
   "outputs": [],
   "source": [
    "def label(uri):\n",
    "    q = '''\n",
    "        PREFIX skos: <http://www.w3.org/2004/02/skos/core#>\n",
    "        PREFIX onto: <http://www.ontotext.com/>\n",
    "        PREFIX rdfs: <http://www.w3.org/2000/01/rdf-schema#>\n",
    "\n",
    "        SELECT ?label\n",
    "        FROM onto:explicit\n",
    "        WHERE {\n",
    "            <%s> skos:prefLabel|rdfs:label ?label\n",
    "        }\n",
    "    ''' % uri\n",
    "    sparql.setQuery(q)\n",
    "    ret = sparql.queryAndConvert()\n",
    "    data = [l['label'] for l in ret['results']['bindings']]\n",
    "    if len(data) < 1:\n",
    "        return \"smell\"\n",
    "    data.sort(key=lambda l: ('aaa' if l['xml:lang']== 'en' else l['xml:lang']) if 'xml:lang' in l else 0)\n",
    "    return data[0]['value']\n",
    "\n",
    "def clean(array):\n",
    "    return [r for r in array if not pd.isna(r)]\n",
    "    \n",
    "def do_nothing(inp):\n",
    "    return inp\n",
    "\n",
    "def to_labels(array):\n",
    "    return [label(r) if str(r).startswith('http') else r for r in array if not pd.isna(r)]"
   ]
  },
  {
   "cell_type": "markdown",
   "id": "b981856d-4285-43ba-843a-70474b77ae70",
   "metadata": {},
   "source": [
    "Load all resources"
   ]
  },
  {
   "cell_type": "code",
   "execution_count": 46,
   "id": "d7f026ff-7080-49d5-afc0-e7000b71b071",
   "metadata": {},
   "outputs": [
    {
     "name": "stderr",
     "output_type": "stream",
     "text": [
      "/var/folders/1p/7266x_bx2bv6hyhd2_k8nt8m0000gn/T/ipykernel_58227/2399317801.py:2: DtypeWarning: Columns (2,3,4,5,6,7,8,9) have mixed types. Specify dtype option on import or set low_memory=False.\n",
      "  all_data = pd.read_csv(path.join(root,'all_data.csv'))\n"
     ]
    }
   ],
   "source": [
    "root = './embeddings'\n",
    "all_data = pd.read_csv(path.join(root,'all_data.csv'))\n",
    "\n",
    "voc_emb_path = path.join(root,'voc/embeddings.txt')\n",
    "voc_emb = KeyedVectors.load_word2vec_format(voc_emb_path, binary=False, no_header=True)\n",
    "voc_emb.save('voc_emb.kv')\n",
    "\n",
    "smell_emb_path = './embeddings/smells/embeddings.txt'\n",
    "smell_emb = KeyedVectors.load_word2vec_format(smell_emb_path, binary=False, no_header=True)\n",
    "smell_emb.save('smell_emb.kv')\n",
    "\n",
    "\n",
    "    \n",
    "def get(smell, with_labels=False): \n",
    "    res = all_data[all_data['smell'] == smell]\n",
    "    proc = to_labels if with_labels else do_nothing\n",
    "    return {\n",
    "        'source': proc(clean(res['source'].unique().tolist())),\n",
    "        'carrier': proc(clean(res['carrier'].unique().tolist())),\n",
    "        'quality': proc(clean(res['quality'].unique().tolist())),\n",
    "        'quality_type': proc(clean(res['quality_type'].unique().tolist())),\n",
    "        'place': proc(clean(res['place'].unique().tolist())),\n",
    "        'place_type': proc(clean(res['place_type'].unique().tolist())),\n",
    "        'gesture': proc(clean(res['gesture'].unique().tolist())),\n",
    "        'emotion': proc(clean(res['emotion'].unique().tolist())),\n",
    "        'time': proc(clean(res['time'].unique().tolist()))\n",
    "}"
   ]
  },
  {
   "cell_type": "markdown",
   "id": "da0d7d32-44e6-4279-ad10-b60122fa7765",
   "metadata": {},
   "source": [
    "In the following, we have a pandas dataframe containing all values for the most important properties of the graph, smell by smell"
   ]
  },
  {
   "cell_type": "code",
   "execution_count": 29,
   "id": "1fe47337-baa8-4cec-909b-6d3f0a59aef2",
   "metadata": {},
   "outputs": [
    {
     "data": {
      "text/html": [
       "<div>\n",
       "<style scoped>\n",
       "    .dataframe tbody tr th:only-of-type {\n",
       "        vertical-align: middle;\n",
       "    }\n",
       "\n",
       "    .dataframe tbody tr th {\n",
       "        vertical-align: top;\n",
       "    }\n",
       "\n",
       "    .dataframe thead th {\n",
       "        text-align: right;\n",
       "    }\n",
       "</style>\n",
       "<table border=\"1\" class=\"dataframe\">\n",
       "  <thead>\n",
       "    <tr style=\"text-align: right;\">\n",
       "      <th></th>\n",
       "      <th>smell</th>\n",
       "      <th>source</th>\n",
       "      <th>carrier</th>\n",
       "      <th>quality</th>\n",
       "      <th>quality_type</th>\n",
       "      <th>place</th>\n",
       "      <th>place_type</th>\n",
       "      <th>gesture</th>\n",
       "      <th>emotion</th>\n",
       "      <th>time</th>\n",
       "    </tr>\n",
       "  </thead>\n",
       "  <tbody>\n",
       "    <tr>\n",
       "      <th>0</th>\n",
       "      <td>http://data.odeuropa.eu/smell/f37eb716-2bea-58...</td>\n",
       "      <td>http://data.odeuropa.eu/vocabulary/olfactory-o...</td>\n",
       "      <td>http://data.odeuropa.eu/vocabulary/olfactory-o...</td>\n",
       "      <td>NaN</td>\n",
       "      <td>NaN</td>\n",
       "      <td>NaN</td>\n",
       "      <td>NaN</td>\n",
       "      <td>NaN</td>\n",
       "      <td>NaN</td>\n",
       "      <td>1771</td>\n",
       "    </tr>\n",
       "    <tr>\n",
       "      <th>1</th>\n",
       "      <td>http://data.odeuropa.eu/smell/f37eb716-2bea-58...</td>\n",
       "      <td>http://data.odeuropa.eu/vocabulary/olfactory-o...</td>\n",
       "      <td>http://data.odeuropa.eu/vocabulary/olfactory-o...</td>\n",
       "      <td>NaN</td>\n",
       "      <td>NaN</td>\n",
       "      <td>NaN</td>\n",
       "      <td>NaN</td>\n",
       "      <td>NaN</td>\n",
       "      <td>NaN</td>\n",
       "      <td>1771</td>\n",
       "    </tr>\n",
       "    <tr>\n",
       "      <th>2</th>\n",
       "      <td>http://data.odeuropa.eu/smell/f37eb716-2bea-58...</td>\n",
       "      <td>http://data.odeuropa.eu/vocabulary/olfactory-o...</td>\n",
       "      <td>http://data.odeuropa.eu/vocabulary/olfactory-o...</td>\n",
       "      <td>NaN</td>\n",
       "      <td>NaN</td>\n",
       "      <td>NaN</td>\n",
       "      <td>NaN</td>\n",
       "      <td>NaN</td>\n",
       "      <td>NaN</td>\n",
       "      <td>1771</td>\n",
       "    </tr>\n",
       "    <tr>\n",
       "      <th>3</th>\n",
       "      <td>http://data.odeuropa.eu/smell/bce916c1-99b3-54...</td>\n",
       "      <td>NaN</td>\n",
       "      <td>http://data.odeuropa.eu/vocabulary/olfactory-o...</td>\n",
       "      <td>NaN</td>\n",
       "      <td>NaN</td>\n",
       "      <td>NaN</td>\n",
       "      <td>NaN</td>\n",
       "      <td>NaN</td>\n",
       "      <td>NaN</td>\n",
       "      <td>1566</td>\n",
       "    </tr>\n",
       "    <tr>\n",
       "      <th>4</th>\n",
       "      <td>http://data.odeuropa.eu/smell/d5d25ebb-79d8-5e...</td>\n",
       "      <td>http://data.odeuropa.eu/vocabulary/olfactory-o...</td>\n",
       "      <td>NaN</td>\n",
       "      <td>NaN</td>\n",
       "      <td>NaN</td>\n",
       "      <td>NaN</td>\n",
       "      <td>NaN</td>\n",
       "      <td>NaN</td>\n",
       "      <td>NaN</td>\n",
       "      <td>1660</td>\n",
       "    </tr>\n",
       "    <tr>\n",
       "      <th>...</th>\n",
       "      <td>...</td>\n",
       "      <td>...</td>\n",
       "      <td>...</td>\n",
       "      <td>...</td>\n",
       "      <td>...</td>\n",
       "      <td>...</td>\n",
       "      <td>...</td>\n",
       "      <td>...</td>\n",
       "      <td>...</td>\n",
       "      <td>...</td>\n",
       "    </tr>\n",
       "    <tr>\n",
       "      <th>241505</th>\n",
       "      <td>http://data.odeuropa.eu/smell/cebb7b35-b8a4-5c...</td>\n",
       "      <td>NaN</td>\n",
       "      <td>NaN</td>\n",
       "      <td>NaN</td>\n",
       "      <td>NaN</td>\n",
       "      <td>NaN</td>\n",
       "      <td>NaN</td>\n",
       "      <td>NaN</td>\n",
       "      <td>NaN</td>\n",
       "      <td>1862</td>\n",
       "    </tr>\n",
       "    <tr>\n",
       "      <th>241506</th>\n",
       "      <td>http://data.odeuropa.eu/smell/1c72f57e-1170-50...</td>\n",
       "      <td>NaN</td>\n",
       "      <td>NaN</td>\n",
       "      <td>NaN</td>\n",
       "      <td>NaN</td>\n",
       "      <td>NaN</td>\n",
       "      <td>NaN</td>\n",
       "      <td>NaN</td>\n",
       "      <td>NaN</td>\n",
       "      <td>1862</td>\n",
       "    </tr>\n",
       "    <tr>\n",
       "      <th>241507</th>\n",
       "      <td>http://data.odeuropa.eu/smell/f6463053-02ec-59...</td>\n",
       "      <td>NaN</td>\n",
       "      <td>NaN</td>\n",
       "      <td>NaN</td>\n",
       "      <td>NaN</td>\n",
       "      <td>NaN</td>\n",
       "      <td>NaN</td>\n",
       "      <td>NaN</td>\n",
       "      <td>NaN</td>\n",
       "      <td>1862</td>\n",
       "    </tr>\n",
       "    <tr>\n",
       "      <th>241508</th>\n",
       "      <td>http://data.odeuropa.eu/smell/aad93ee8-c53d-5f...</td>\n",
       "      <td>NaN</td>\n",
       "      <td>NaN</td>\n",
       "      <td>NaN</td>\n",
       "      <td>NaN</td>\n",
       "      <td>NaN</td>\n",
       "      <td>NaN</td>\n",
       "      <td>NaN</td>\n",
       "      <td>NaN</td>\n",
       "      <td>1862</td>\n",
       "    </tr>\n",
       "    <tr>\n",
       "      <th>241509</th>\n",
       "      <td>http://data.odeuropa.eu/smell/5465349a-7b67-52...</td>\n",
       "      <td>NaN</td>\n",
       "      <td>NaN</td>\n",
       "      <td>http://data.odeuropa.eu/vocabulary/vdi-hedonic...</td>\n",
       "      <td>http://data.odeuropa.eu/attribute-type/hedonic</td>\n",
       "      <td>NaN</td>\n",
       "      <td>NaN</td>\n",
       "      <td>NaN</td>\n",
       "      <td>NaN</td>\n",
       "      <td>1862</td>\n",
       "    </tr>\n",
       "  </tbody>\n",
       "</table>\n",
       "<p>241510 rows × 10 columns</p>\n",
       "</div>"
      ],
      "text/plain": [
       "                                                    smell  \\\n",
       "0       http://data.odeuropa.eu/smell/f37eb716-2bea-58...   \n",
       "1       http://data.odeuropa.eu/smell/f37eb716-2bea-58...   \n",
       "2       http://data.odeuropa.eu/smell/f37eb716-2bea-58...   \n",
       "3       http://data.odeuropa.eu/smell/bce916c1-99b3-54...   \n",
       "4       http://data.odeuropa.eu/smell/d5d25ebb-79d8-5e...   \n",
       "...                                                   ...   \n",
       "241505  http://data.odeuropa.eu/smell/cebb7b35-b8a4-5c...   \n",
       "241506  http://data.odeuropa.eu/smell/1c72f57e-1170-50...   \n",
       "241507  http://data.odeuropa.eu/smell/f6463053-02ec-59...   \n",
       "241508  http://data.odeuropa.eu/smell/aad93ee8-c53d-5f...   \n",
       "241509  http://data.odeuropa.eu/smell/5465349a-7b67-52...   \n",
       "\n",
       "                                                   source  \\\n",
       "0       http://data.odeuropa.eu/vocabulary/olfactory-o...   \n",
       "1       http://data.odeuropa.eu/vocabulary/olfactory-o...   \n",
       "2       http://data.odeuropa.eu/vocabulary/olfactory-o...   \n",
       "3                                                     NaN   \n",
       "4       http://data.odeuropa.eu/vocabulary/olfactory-o...   \n",
       "...                                                   ...   \n",
       "241505                                                NaN   \n",
       "241506                                                NaN   \n",
       "241507                                                NaN   \n",
       "241508                                                NaN   \n",
       "241509                                                NaN   \n",
       "\n",
       "                                                  carrier  \\\n",
       "0       http://data.odeuropa.eu/vocabulary/olfactory-o...   \n",
       "1       http://data.odeuropa.eu/vocabulary/olfactory-o...   \n",
       "2       http://data.odeuropa.eu/vocabulary/olfactory-o...   \n",
       "3       http://data.odeuropa.eu/vocabulary/olfactory-o...   \n",
       "4                                                     NaN   \n",
       "...                                                   ...   \n",
       "241505                                                NaN   \n",
       "241506                                                NaN   \n",
       "241507                                                NaN   \n",
       "241508                                                NaN   \n",
       "241509                                                NaN   \n",
       "\n",
       "                                                  quality  \\\n",
       "0                                                     NaN   \n",
       "1                                                     NaN   \n",
       "2                                                     NaN   \n",
       "3                                                     NaN   \n",
       "4                                                     NaN   \n",
       "...                                                   ...   \n",
       "241505                                                NaN   \n",
       "241506                                                NaN   \n",
       "241507                                                NaN   \n",
       "241508                                                NaN   \n",
       "241509  http://data.odeuropa.eu/vocabulary/vdi-hedonic...   \n",
       "\n",
       "                                          quality_type place place_type  \\\n",
       "0                                                  NaN   NaN        NaN   \n",
       "1                                                  NaN   NaN        NaN   \n",
       "2                                                  NaN   NaN        NaN   \n",
       "3                                                  NaN   NaN        NaN   \n",
       "4                                                  NaN   NaN        NaN   \n",
       "...                                                ...   ...        ...   \n",
       "241505                                             NaN   NaN        NaN   \n",
       "241506                                             NaN   NaN        NaN   \n",
       "241507                                             NaN   NaN        NaN   \n",
       "241508                                             NaN   NaN        NaN   \n",
       "241509  http://data.odeuropa.eu/attribute-type/hedonic   NaN        NaN   \n",
       "\n",
       "       gesture emotion  time  \n",
       "0          NaN     NaN  1771  \n",
       "1          NaN     NaN  1771  \n",
       "2          NaN     NaN  1771  \n",
       "3          NaN     NaN  1566  \n",
       "4          NaN     NaN  1660  \n",
       "...        ...     ...   ...  \n",
       "241505     NaN     NaN  1862  \n",
       "241506     NaN     NaN  1862  \n",
       "241507     NaN     NaN  1862  \n",
       "241508     NaN     NaN  1862  \n",
       "241509     NaN     NaN  1862  \n",
       "\n",
       "[241510 rows x 10 columns]"
      ]
     },
     "execution_count": 29,
     "metadata": {},
     "output_type": "execute_result"
    }
   ],
   "source": [
    "all_data"
   ]
  },
  {
   "cell_type": "code",
   "execution_count": 5,
   "id": "926f1d9b-d2c6-4ae3-a127-dd3e8caee454",
   "metadata": {},
   "outputs": [],
   "source": [
    "all_data.sort_values(by=['source', 'carrier', 'quality', 'place', 'gesture', 'emotion'], axis=0).to_csv('all_data_sorted.csv', index=False)"
   ]
  },
  {
   "cell_type": "code",
   "execution_count": 6,
   "id": "64ac82e2-ec28-4588-9621-f8c2f14d437f",
   "metadata": {},
   "outputs": [
    {
     "name": "stderr",
     "output_type": "stream",
     "text": [
      "/var/folders/1p/7266x_bx2bv6hyhd2_k8nt8m0000gn/T/ipykernel_58227/1760237082.py:1: DtypeWarning: Columns (1,2,3,4,5,6,7,8,9) have mixed types. Specify dtype option on import or set low_memory=False.\n",
      "  all_data = pd.read_csv('all_data_sorted.csv')\n"
     ]
    }
   ],
   "source": [
    "all_data = pd.read_csv('all_data_sorted.csv')"
   ]
  },
  {
   "cell_type": "code",
   "execution_count": 7,
   "id": "ae2efd3e-5c73-4eb7-9093-45bb55dfd065",
   "metadata": {},
   "outputs": [],
   "source": [
    "all_data['smell'].to_csv('all_data_x.csv', index=False)"
   ]
  },
  {
   "cell_type": "markdown",
   "id": "9e009202-1afa-4a5e-9cda-b745600bc25d",
   "metadata": {},
   "source": [
    "You can manipulate the pandas dataframe or select a particular smell (e.g. http://data.odeuropa.eu/smell/b6cdd9fe-a1a1-5aa3-bf4c-162a5c2d1ead ) in this way"
   ]
  },
  {
   "cell_type": "code",
   "execution_count": 8,
   "id": "e55c8c0b-bf7b-42e3-8e92-4b8aef06943a",
   "metadata": {},
   "outputs": [
    {
     "data": {
      "text/plain": [
       "{'source': ['http://data.odeuropa.eu/vocabulary/olfactory-objects/151',\n",
       "  'http://data.odeuropa.eu/vocabulary/olfactory-objects/158',\n",
       "  'http://data.odeuropa.eu/vocabulary/olfactory-objects/227',\n",
       "  'http://data.odeuropa.eu/vocabulary/olfactory-objects/505'],\n",
       " 'carrier': ['http://data.odeuropa.eu/vocabulary/olfactory-objects/451',\n",
       "  'http://data.odeuropa.eu/vocabulary/olfactory-objects/452',\n",
       "  'http://data.odeuropa.eu/vocabulary/olfactory-objects/474'],\n",
       " 'quality': [],\n",
       " 'quality_type': [],\n",
       " 'place': [],\n",
       " 'place_type': [],\n",
       " 'gesture': [],\n",
       " 'emotion': [],\n",
       " 'time': ['1641']}"
      ]
     },
     "execution_count": 8,
     "metadata": {},
     "output_type": "execute_result"
    }
   ],
   "source": [
    "get('http://data.odeuropa.eu/smell/b6cdd9fe-a1a1-5aa3-bf4c-162a5c2d1ead')"
   ]
  },
  {
   "cell_type": "markdown",
   "id": "56afa728-6a8a-47d0-becc-46b86afefa7c",
   "metadata": {},
   "source": [
    "possibly also getting the labels of the terms"
   ]
  },
  {
   "cell_type": "code",
   "execution_count": 9,
   "id": "7d871fdf-fa9c-45b3-bd70-be23483b72d6",
   "metadata": {},
   "outputs": [
    {
     "data": {
      "text/plain": [
       "{'source': ['Snuff Box', 'Tobacco packaging', 'Tobacco', 'Match'],\n",
       " 'carrier': ['Glass without stem', 'Jug', 'Ashtray'],\n",
       " 'quality': [],\n",
       " 'quality_type': [],\n",
       " 'place': [],\n",
       " 'place_type': [],\n",
       " 'gesture': [],\n",
       " 'emotion': [],\n",
       " 'time': ['1641']}"
      ]
     },
     "execution_count": 9,
     "metadata": {},
     "output_type": "execute_result"
    }
   ],
   "source": [
    "get('http://data.odeuropa.eu/smell/b6cdd9fe-a1a1-5aa3-bf4c-162a5c2d1ead', with_labels=True)"
   ]
  },
  {
   "cell_type": "markdown",
   "id": "c39a538b-7066-446b-b8ff-4a7bb9fe4131",
   "metadata": {},
   "source": [
    "We provide 2 kind of embeddings.\n",
    "\n",
    "The vocabulary embeddings `voc_emb` have been computed on the terms belonging to our [controlled vocabularies](http://vocab.odeuropa.eu). In other words, these are the terms you see in the columns of the pandas dataframe.\n",
    "These embeddings contains a number of terms equal to:"
   ]
  },
  {
   "cell_type": "code",
   "execution_count": 10,
   "id": "045cb4bf-b0ee-4323-becb-ef8d230bde01",
   "metadata": {},
   "outputs": [
    {
     "data": {
      "text/plain": [
       "2442"
      ]
     },
     "execution_count": 10,
     "metadata": {},
     "output_type": "execute_result"
    }
   ],
   "source": [
    "len(voc_emb)"
   ]
  },
  {
   "cell_type": "markdown",
   "id": "99e59f73-6155-4213-9042-f794344838fe",
   "metadata": {},
   "source": [
    "It is possible to search what are the 10 most similar elements for a term, like:"
   ]
  },
  {
   "cell_type": "code",
   "execution_count": 47,
   "id": "1e7318dd-4077-49ff-859b-c6e330fdec3b",
   "metadata": {},
   "outputs": [
    {
     "data": {
      "text/plain": [
       "'Incense'"
      ]
     },
     "execution_count": 47,
     "metadata": {},
     "output_type": "execute_result"
    }
   ],
   "source": [
    "label('http://data.odeuropa.eu/vocabulary/olfactory-objects/269')"
   ]
  },
  {
   "cell_type": "code",
   "execution_count": 49,
   "id": "423a76f1-6e62-4e67-a983-6bc93ec4b2b2",
   "metadata": {},
   "outputs": [
    {
     "data": {
      "text/plain": [
       "['0.7755   http://data.odeuropa.eu/vocabulary/olfactory-objects/267   Frankincense',\n",
       " '0.7421   http://data.odeuropa.eu/vocabulary/olfactory-objects/399   Reukwerk',\n",
       " '0.7351   http://data.odeuropa.eu/vocabulary/olfactory-objects/25   Candle',\n",
       " '0.7176   http://data.odeuropa.eu/vocabulary/olfactory-objects/89   Incense Burner',\n",
       " '0.7078   http://data.odeuropa.eu/vocabulary/olfactory-objects/97   Lodereindoos',\n",
       " '0.7040   http://data.odeuropa.eu/vocabulary/olfactory-objects/262   Mildew',\n",
       " '0.7028   http://data.odeuropa.eu/vocabulary/olfactory-objects/207   Castoreum',\n",
       " '0.6883   http://data.odeuropa.eu/vocabulary/olfactory-objects/263   Mould',\n",
       " '0.6862   http://data.odeuropa.eu/vocabulary/olfactory-objects/251   Incense bowl',\n",
       " '0.6765   http://data.odeuropa.eu/vocabulary/olfactory-objects/228   Aqua mirabilis']"
      ]
     },
     "execution_count": 49,
     "metadata": {},
     "output_type": "execute_result"
    }
   ],
   "source": [
    "res = voc_emb.most_similar('http://data.odeuropa.eu/vocabulary/olfactory-objects/269', topn=10) # incense\n",
    "['%.4f   %s   %s' % (r[1], r[0], label(r[0])) for r in res]"
   ]
  },
  {
   "cell_type": "raw",
   "id": "2f454aaa-da03-4142-a66c-8aca9529dc35",
   "metadata": {},
   "source": [
    "The smell embeddings `smell_emb` have been computed on the smells in the EOKG, each smell being a unique event in a place and time. In other words, these are the terms you see in the first column of the pandas dataframe.\n",
    "These embeddings contains a number of terms equal to:"
   ]
  },
  {
   "cell_type": "code",
   "execution_count": 25,
   "id": "52351736-97d1-4635-b442-c762d2a63dc3",
   "metadata": {},
   "outputs": [
    {
     "data": {
      "text/plain": [
       "33937"
      ]
     },
     "execution_count": 25,
     "metadata": {},
     "output_type": "execute_result"
    }
   ],
   "source": [
    "len(smell_emb)"
   ]
  },
  {
   "cell_type": "markdown",
   "id": "3b992bbf-c25f-4ae8-9a3c-8dda608028b2",
   "metadata": {},
   "source": [
    "It is possible to search what are the 10 most similar elements for a term, like:"
   ]
  },
  {
   "cell_type": "code",
   "execution_count": 30,
   "id": "55f2796f-457c-4ef7-adcd-41aec3c3ad34",
   "metadata": {},
   "outputs": [
    {
     "data": {
      "text/plain": [
       "'smell'"
      ]
     },
     "execution_count": 30,
     "metadata": {},
     "output_type": "execute_result"
    }
   ],
   "source": [
    "sm = 'http://data.odeuropa.eu/smell/5f40ad52-8525-5f41-91cf-8ad024f29df7'\n",
    "label(sm)"
   ]
  },
  {
   "cell_type": "code",
   "execution_count": 31,
   "id": "979597b9-fc44-4e0f-9416-2c9acd284468",
   "metadata": {},
   "outputs": [
    {
     "data": {
      "text/plain": [
       "{'source': ['Tobacco'],\n",
       " 'carrier': [],\n",
       " 'quality': ['Light', 'strong'],\n",
       " 'quality_type': ['hedonic', 'intensity'],\n",
       " 'place': [],\n",
       " 'place_type': [],\n",
       " 'gesture': [],\n",
       " 'emotion': [],\n",
       " 'time': ['1874']}"
      ]
     },
     "execution_count": 31,
     "metadata": {},
     "output_type": "execute_result"
    }
   ],
   "source": [
    "get(sm, with_labels=True)"
   ]
  },
  {
   "cell_type": "code",
   "execution_count": 32,
   "id": "bdc1ed8d-359d-46bd-b09d-fa1f55fde3b0",
   "metadata": {},
   "outputs": [
    {
     "data": {
      "text/plain": [
       "{'source': ['http://data.odeuropa.eu/vocabulary/olfactory-objects/227'],\n",
       " 'carrier': [],\n",
       " 'quality': ['http://data.odeuropa.eu/vocabulary/vdi-hedonic/05n',\n",
       "  'http://data.odeuropa.eu/vocabulary/vdi-intensity/4'],\n",
       " 'quality_type': ['http://data.odeuropa.eu/attribute-type/hedonic',\n",
       "  'http://data.odeuropa.eu/attribute-type/intensity'],\n",
       " 'place': [],\n",
       " 'place_type': [],\n",
       " 'gesture': [],\n",
       " 'emotion': [],\n",
       " 'time': ['1874']}"
      ]
     },
     "execution_count": 32,
     "metadata": {},
     "output_type": "execute_result"
    }
   ],
   "source": [
    "get(sm)"
   ]
  },
  {
   "cell_type": "code",
   "execution_count": 33,
   "id": "0afd4dde-018f-421d-a586-6dceb599c6aa",
   "metadata": {},
   "outputs": [
    {
     "data": {
      "text/plain": [
       "['0.9877   http://data.odeuropa.eu/smell/a308a5e1-3f4f-55fe-b86a-b1e08bfc8be2   oozing',\n",
       " '0.9860   http://data.odeuropa.eu/smell/3b8285eb-c851-51d2-bb21-6855c15a64f8   odour',\n",
       " '0.9860   http://data.odeuropa.eu/smell/551aeb96-ce8e-5e4a-aed1-da04514eb7c0   smell',\n",
       " '0.9856   http://data.odeuropa.eu/smell/99f894fe-f7c0-5c6f-9e52-6bcde6b933a3   Breath',\n",
       " '0.9853   http://data.odeuropa.eu/smell/f9314647-ae7b-5328-898a-65b852e4f668   perfume',\n",
       " '0.9852   http://data.odeuropa.eu/smell/4c7c0457-3407-5d78-9a89-005b47a5e3fa   scent',\n",
       " '0.9845   http://data.odeuropa.eu/smell/fce16d7d-12ed-50ac-96ea-b35dc50b9819   smelling',\n",
       " '0.9843   http://data.odeuropa.eu/smell/f1bc745e-639d-548e-89a4-22074894042d   Smell',\n",
       " '0.9841   http://data.odeuropa.eu/smell/771a6740-e5ca-5738-af47-b7a01ae685e1   smelling',\n",
       " '0.9841   http://data.odeuropa.eu/smell/e2106ba6-8eba-5b12-86e4-e330dc3db8db   smell']"
      ]
     },
     "execution_count": 33,
     "metadata": {},
     "output_type": "execute_result"
    }
   ],
   "source": [
    "res = smell_emb.most_similar(sm, topn=10)\n",
    "['%.4f   %s   %s' % (r[1], r[0], label(r[0])) for r in res]"
   ]
  },
  {
   "cell_type": "code",
   "execution_count": 43,
   "id": "f79b8877-b622-4f77-b3f6-63a852aca2a9",
   "metadata": {},
   "outputs": [
    {
     "data": {
      "text/plain": [
       "{'source': ['Blood'],\n",
       " 'carrier': [],\n",
       " 'quality': ['Light'],\n",
       " 'quality_type': ['hedonic'],\n",
       " 'place': [],\n",
       " 'place_type': [],\n",
       " 'gesture': [],\n",
       " 'emotion': [],\n",
       " 'time': ['1905']}"
      ]
     },
     "execution_count": 43,
     "metadata": {},
     "output_type": "execute_result"
    }
   ],
   "source": [
    "get(res[0][0], with_labels=True)"
   ]
  },
  {
   "cell_type": "code",
   "execution_count": 10,
   "id": "8c4684a5-091a-4509-8051-236400d0eebd",
   "metadata": {},
   "outputs": [
    {
     "data": {
      "text/plain": [
       "'http://data.odeuropa.eu/smell/069550d6-f362-5a3d-b2c4-cb4b2e4b99ec'"
      ]
     },
     "execution_count": 10,
     "metadata": {},
     "output_type": "execute_result"
    }
   ],
   "source": [
    "res[2][0]"
   ]
  },
  {
   "cell_type": "code",
   "execution_count": null,
   "id": "9fa99c89-ff0a-4a5a-87b6-3112ccff3375",
   "metadata": {},
   "outputs": [],
   "source": []
  }
 ],
 "metadata": {
  "kernelspec": {
   "display_name": "Python 3 (ipykernel)",
   "language": "python",
   "name": "python3"
  },
  "language_info": {
   "codemirror_mode": {
    "name": "ipython",
    "version": 3
   },
   "file_extension": ".py",
   "mimetype": "text/x-python",
   "name": "python",
   "nbconvert_exporter": "python",
   "pygments_lexer": "ipython3",
   "version": "3.9.6"
  }
 },
 "nbformat": 4,
 "nbformat_minor": 5
}
