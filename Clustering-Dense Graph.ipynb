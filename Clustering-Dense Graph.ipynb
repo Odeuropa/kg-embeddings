{
 "cells": [
  {
   "cell_type": "code",
   "execution_count": 1,
   "id": "e9a7c941-7ee3-42b1-a6aa-48d3e5f53f39",
   "metadata": {},
   "outputs": [],
   "source": [
    "from os import path\n",
    "import pandas as pd\n",
    "from gensim.models import KeyedVectors\n",
    "from SPARQLWrapper import SPARQLWrapper, JSON\n",
    "\n",
    "sparql = SPARQLWrapper(\"http://data.odeuropa.eu/repositories/odeuropa\")\n",
    "sparql.setReturnFormat(JSON)"
   ]
  },
  {
   "cell_type": "code",
   "execution_count": 2,
   "id": "a28b5799-2d53-40c6-9094-314d8fb234f0",
   "metadata": {},
   "outputs": [],
   "source": [
    "def label(uri):\n",
    "    if uri is None or type(uri) != str or len(uri) == 0:\n",
    "        return None\n",
    "    if 'flavornet' in uri and len(uri.split('/')) == 6:\n",
    "        uri = uri.replace('flavornet','flavornet/odors')\n",
    "        \n",
    "    q = '''\n",
    "        PREFIX skos: <http://www.w3.org/2004/02/skos/core#>\n",
    "        PREFIX onto: <http://www.ontotext.com/>\n",
    "        PREFIX rdfs: <http://www.w3.org/2000/01/rdf-schema#>\n",
    "\n",
    "        SELECT ?label\n",
    "        FROM onto:explicit\n",
    "        WHERE {\n",
    "            <%s> skos:prefLabel|rdfs:label ?label\n",
    "        }\n",
    "    ''' % uri\n",
    "    sparql.setQuery(q)\n",
    "    ret = sparql.queryAndConvert()\n",
    "    data = [l['label'] for l in ret['results']['bindings']]\n",
    "    if len(data) < 1:\n",
    "        return \"smell\"\n",
    "    data.sort(key=lambda l: ('aaa' if l['xml:lang']== 'en' else l['xml:lang']) if 'xml:lang' in l else 0)\n",
    "    return data[0]['value']\n",
    "\n",
    "def clean(array):\n",
    "    return [r for r in array if not pd.isna(r)]\n",
    "    \n",
    "def do_nothing(inp):\n",
    "    return inp\n",
    "\n",
    "def to_labels(array):\n",
    "    return [label(r) if str(r).startswith('http') else r for r in array if not pd.isna(r)]"
   ]
  },
  {
   "cell_type": "markdown",
   "id": "b981856d-4285-43ba-843a-70474b77ae70",
   "metadata": {},
   "source": [
    "Load all resources"
   ]
  },
  {
   "cell_type": "code",
   "execution_count": 3,
   "id": "95b1437a-153c-49aa-8305-5f0383c60b80",
   "metadata": {},
   "outputs": [
    {
     "name": "stdout",
     "output_type": "stream",
     "text": [
      "Loading voc.kv\n"
     ]
    },
    {
     "name": "stderr",
     "output_type": "stream",
     "text": [
      "/var/folders/1p/7266x_bx2bv6hyhd2_k8nt8m0000gn/T/ipykernel_90902/4291142874.py:2: DtypeWarning: Columns (1,2,3,4,5,6,7,8,9) have mixed types. Specify dtype option on import or set low_memory=False.\n",
      "  all_data = pd.read_csv('all_data_sorted.csv')\n"
     ]
    }
   ],
   "source": [
    "root = './embeddings/new'\n",
    "all_data = pd.read_csv('all_data_sorted.csv')\n",
    "\n",
    "print('Loading voc.kv')\n",
    "voc_emb = KeyedVectors.load(path.join(root, 'voc.kv'))"
   ]
  },
  {
   "cell_type": "code",
   "execution_count": 4,
   "id": "35aa8de7-67a3-4563-a2aa-59631e814a9a",
   "metadata": {},
   "outputs": [
    {
     "name": "stdout",
     "output_type": "stream",
     "text": [
      "Loading smells.kv\n",
      "./embeddings/new/smells.kv\n"
     ]
    }
   ],
   "source": [
    "print('Loading smells.kv')\n",
    "smell_emb_path = path.join(root, 'smells.kv')\n",
    "print(smell_emb_path)\n",
    "smell_emb = KeyedVectors.load(smell_emb_path)\n",
    "\n",
    "def get(smell, with_labels=False): \n",
    "    res = all_data[all_data['smell'] == smell]\n",
    "    proc = to_labels if with_labels else do_nothing\n",
    "    return {\n",
    "        'source': proc(clean(res['source'].unique().tolist())),\n",
    "        'carrier': proc(clean(res['carrier'].unique().tolist())),\n",
    "        'quality': proc(clean(res['quality'].unique().tolist())),\n",
    "        'quality_type': proc(clean(res['quality_type'].unique().tolist())),\n",
    "        'place': proc(clean(res['place'].unique().tolist())),\n",
    "        'place_type': proc(clean(res['place_type'].unique().tolist())),\n",
    "        'gesture': proc(clean(res['gesture'].unique().tolist())),\n",
    "        'emotion': proc(clean(res['emotion'].unique().tolist())),\n",
    "        'time': proc(clean(res['time'].unique().tolist()))\n",
    "}"
   ]
  },
  {
   "cell_type": "markdown",
   "id": "da0d7d32-44e6-4279-ad10-b60122fa7765",
   "metadata": {},
   "source": [
    "In the following, we have a pandas dataframe containing all values for the most important properties of the graph, smell by smell"
   ]
  },
  {
   "cell_type": "code",
   "execution_count": 5,
   "id": "1fe47337-baa8-4cec-909b-6d3f0a59aef2",
   "metadata": {},
   "outputs": [
    {
     "data": {
      "text/html": [
       "<div>\n",
       "<style scoped>\n",
       "    .dataframe tbody tr th:only-of-type {\n",
       "        vertical-align: middle;\n",
       "    }\n",
       "\n",
       "    .dataframe tbody tr th {\n",
       "        vertical-align: top;\n",
       "    }\n",
       "\n",
       "    .dataframe thead th {\n",
       "        text-align: right;\n",
       "    }\n",
       "</style>\n",
       "<table border=\"1\" class=\"dataframe\">\n",
       "  <thead>\n",
       "    <tr style=\"text-align: right;\">\n",
       "      <th></th>\n",
       "      <th>smell</th>\n",
       "      <th>source</th>\n",
       "      <th>carrier</th>\n",
       "      <th>quality</th>\n",
       "      <th>quality_type</th>\n",
       "      <th>place</th>\n",
       "      <th>place_type</th>\n",
       "      <th>gesture</th>\n",
       "      <th>emotion</th>\n",
       "      <th>time</th>\n",
       "    </tr>\n",
       "  </thead>\n",
       "  <tbody>\n",
       "    <tr>\n",
       "      <th>0</th>\n",
       "      <td>http://data.odeuropa.eu/smell/c52b0781-e906-53...</td>\n",
       "      <td>http://data.odeuropa.eu/vocabulary/olfactory-o...</td>\n",
       "      <td>NaN</td>\n",
       "      <td>http://data.odeuropa.eu/vocabulary/drom/spicy</td>\n",
       "      <td>http://data.odeuropa.eu/attribute-type/character</td>\n",
       "      <td>NaN</td>\n",
       "      <td>NaN</td>\n",
       "      <td>NaN</td>\n",
       "      <td>NaN</td>\n",
       "      <td>1903</td>\n",
       "    </tr>\n",
       "    <tr>\n",
       "      <th>1</th>\n",
       "      <td>http://data.odeuropa.eu/smell/c52b0781-e906-53...</td>\n",
       "      <td>http://data.odeuropa.eu/vocabulary/olfactory-o...</td>\n",
       "      <td>NaN</td>\n",
       "      <td>http://data.odeuropa.eu/vocabulary/historic-bo...</td>\n",
       "      <td>http://data.odeuropa.eu/attribute-type/character</td>\n",
       "      <td>NaN</td>\n",
       "      <td>NaN</td>\n",
       "      <td>NaN</td>\n",
       "      <td>NaN</td>\n",
       "      <td>1903</td>\n",
       "    </tr>\n",
       "    <tr>\n",
       "      <th>2</th>\n",
       "      <td>http://data.odeuropa.eu/smell/ae8a7f2c-eacb-58...</td>\n",
       "      <td>http://data.odeuropa.eu/vocabulary/olfactory-o...</td>\n",
       "      <td>NaN</td>\n",
       "      <td>NaN</td>\n",
       "      <td>NaN</td>\n",
       "      <td>NaN</td>\n",
       "      <td>NaN</td>\n",
       "      <td>NaN</td>\n",
       "      <td>NaN</td>\n",
       "      <td>1916</td>\n",
       "    </tr>\n",
       "    <tr>\n",
       "      <th>3</th>\n",
       "      <td>http://data.odeuropa.eu/smell/54d263a5-1015-5c...</td>\n",
       "      <td>http://data.odeuropa.eu/vocabulary/olfactory-o...</td>\n",
       "      <td>NaN</td>\n",
       "      <td>NaN</td>\n",
       "      <td>NaN</td>\n",
       "      <td>NaN</td>\n",
       "      <td>NaN</td>\n",
       "      <td>NaN</td>\n",
       "      <td>NaN</td>\n",
       "      <td>1916</td>\n",
       "    </tr>\n",
       "    <tr>\n",
       "      <th>4</th>\n",
       "      <td>http://data.odeuropa.eu/smell/f61895e3-110e-51...</td>\n",
       "      <td>http://data.odeuropa.eu/vocabulary/olfactory-o...</td>\n",
       "      <td>NaN</td>\n",
       "      <td>NaN</td>\n",
       "      <td>NaN</td>\n",
       "      <td>NaN</td>\n",
       "      <td>NaN</td>\n",
       "      <td>NaN</td>\n",
       "      <td>NaN</td>\n",
       "      <td>1867</td>\n",
       "    </tr>\n",
       "    <tr>\n",
       "      <th>...</th>\n",
       "      <td>...</td>\n",
       "      <td>...</td>\n",
       "      <td>...</td>\n",
       "      <td>...</td>\n",
       "      <td>...</td>\n",
       "      <td>...</td>\n",
       "      <td>...</td>\n",
       "      <td>...</td>\n",
       "      <td>...</td>\n",
       "      <td>...</td>\n",
       "    </tr>\n",
       "    <tr>\n",
       "      <th>241505</th>\n",
       "      <td>http://data.odeuropa.eu/smell/ba377729-4697-5e...</td>\n",
       "      <td>NaN</td>\n",
       "      <td>NaN</td>\n",
       "      <td>NaN</td>\n",
       "      <td>NaN</td>\n",
       "      <td>NaN</td>\n",
       "      <td>NaN</td>\n",
       "      <td>NaN</td>\n",
       "      <td>NaN</td>\n",
       "      <td>1862.0</td>\n",
       "    </tr>\n",
       "    <tr>\n",
       "      <th>241506</th>\n",
       "      <td>http://data.odeuropa.eu/smell/cebb7b35-b8a4-5c...</td>\n",
       "      <td>NaN</td>\n",
       "      <td>NaN</td>\n",
       "      <td>NaN</td>\n",
       "      <td>NaN</td>\n",
       "      <td>NaN</td>\n",
       "      <td>NaN</td>\n",
       "      <td>NaN</td>\n",
       "      <td>NaN</td>\n",
       "      <td>1862.0</td>\n",
       "    </tr>\n",
       "    <tr>\n",
       "      <th>241507</th>\n",
       "      <td>http://data.odeuropa.eu/smell/1c72f57e-1170-50...</td>\n",
       "      <td>NaN</td>\n",
       "      <td>NaN</td>\n",
       "      <td>NaN</td>\n",
       "      <td>NaN</td>\n",
       "      <td>NaN</td>\n",
       "      <td>NaN</td>\n",
       "      <td>NaN</td>\n",
       "      <td>NaN</td>\n",
       "      <td>1862.0</td>\n",
       "    </tr>\n",
       "    <tr>\n",
       "      <th>241508</th>\n",
       "      <td>http://data.odeuropa.eu/smell/f6463053-02ec-59...</td>\n",
       "      <td>NaN</td>\n",
       "      <td>NaN</td>\n",
       "      <td>NaN</td>\n",
       "      <td>NaN</td>\n",
       "      <td>NaN</td>\n",
       "      <td>NaN</td>\n",
       "      <td>NaN</td>\n",
       "      <td>NaN</td>\n",
       "      <td>1862.0</td>\n",
       "    </tr>\n",
       "    <tr>\n",
       "      <th>241509</th>\n",
       "      <td>http://data.odeuropa.eu/smell/aad93ee8-c53d-5f...</td>\n",
       "      <td>NaN</td>\n",
       "      <td>NaN</td>\n",
       "      <td>NaN</td>\n",
       "      <td>NaN</td>\n",
       "      <td>NaN</td>\n",
       "      <td>NaN</td>\n",
       "      <td>NaN</td>\n",
       "      <td>NaN</td>\n",
       "      <td>1862.0</td>\n",
       "    </tr>\n",
       "  </tbody>\n",
       "</table>\n",
       "<p>241510 rows × 10 columns</p>\n",
       "</div>"
      ],
      "text/plain": [
       "                                                    smell  \\\n",
       "0       http://data.odeuropa.eu/smell/c52b0781-e906-53...   \n",
       "1       http://data.odeuropa.eu/smell/c52b0781-e906-53...   \n",
       "2       http://data.odeuropa.eu/smell/ae8a7f2c-eacb-58...   \n",
       "3       http://data.odeuropa.eu/smell/54d263a5-1015-5c...   \n",
       "4       http://data.odeuropa.eu/smell/f61895e3-110e-51...   \n",
       "...                                                   ...   \n",
       "241505  http://data.odeuropa.eu/smell/ba377729-4697-5e...   \n",
       "241506  http://data.odeuropa.eu/smell/cebb7b35-b8a4-5c...   \n",
       "241507  http://data.odeuropa.eu/smell/1c72f57e-1170-50...   \n",
       "241508  http://data.odeuropa.eu/smell/f6463053-02ec-59...   \n",
       "241509  http://data.odeuropa.eu/smell/aad93ee8-c53d-5f...   \n",
       "\n",
       "                                                   source carrier  \\\n",
       "0       http://data.odeuropa.eu/vocabulary/olfactory-o...     NaN   \n",
       "1       http://data.odeuropa.eu/vocabulary/olfactory-o...     NaN   \n",
       "2       http://data.odeuropa.eu/vocabulary/olfactory-o...     NaN   \n",
       "3       http://data.odeuropa.eu/vocabulary/olfactory-o...     NaN   \n",
       "4       http://data.odeuropa.eu/vocabulary/olfactory-o...     NaN   \n",
       "...                                                   ...     ...   \n",
       "241505                                                NaN     NaN   \n",
       "241506                                                NaN     NaN   \n",
       "241507                                                NaN     NaN   \n",
       "241508                                                NaN     NaN   \n",
       "241509                                                NaN     NaN   \n",
       "\n",
       "                                                  quality  \\\n",
       "0           http://data.odeuropa.eu/vocabulary/drom/spicy   \n",
       "1       http://data.odeuropa.eu/vocabulary/historic-bo...   \n",
       "2                                                     NaN   \n",
       "3                                                     NaN   \n",
       "4                                                     NaN   \n",
       "...                                                   ...   \n",
       "241505                                                NaN   \n",
       "241506                                                NaN   \n",
       "241507                                                NaN   \n",
       "241508                                                NaN   \n",
       "241509                                                NaN   \n",
       "\n",
       "                                            quality_type place place_type  \\\n",
       "0       http://data.odeuropa.eu/attribute-type/character   NaN        NaN   \n",
       "1       http://data.odeuropa.eu/attribute-type/character   NaN        NaN   \n",
       "2                                                    NaN   NaN        NaN   \n",
       "3                                                    NaN   NaN        NaN   \n",
       "4                                                    NaN   NaN        NaN   \n",
       "...                                                  ...   ...        ...   \n",
       "241505                                               NaN   NaN        NaN   \n",
       "241506                                               NaN   NaN        NaN   \n",
       "241507                                               NaN   NaN        NaN   \n",
       "241508                                               NaN   NaN        NaN   \n",
       "241509                                               NaN   NaN        NaN   \n",
       "\n",
       "       gesture emotion    time  \n",
       "0          NaN     NaN    1903  \n",
       "1          NaN     NaN    1903  \n",
       "2          NaN     NaN    1916  \n",
       "3          NaN     NaN    1916  \n",
       "4          NaN     NaN    1867  \n",
       "...        ...     ...     ...  \n",
       "241505     NaN     NaN  1862.0  \n",
       "241506     NaN     NaN  1862.0  \n",
       "241507     NaN     NaN  1862.0  \n",
       "241508     NaN     NaN  1862.0  \n",
       "241509     NaN     NaN  1862.0  \n",
       "\n",
       "[241510 rows x 10 columns]"
      ]
     },
     "execution_count": 5,
     "metadata": {},
     "output_type": "execute_result"
    }
   ],
   "source": [
    "all_data"
   ]
  },
  {
   "cell_type": "code",
   "execution_count": 6,
   "id": "b9f40af6-be10-4b4d-99e0-2d7a96c8f1b8",
   "metadata": {},
   "outputs": [],
   "source": [
    "only_obj= [l for l in voc_emb.key_to_index.keys() if l.startswith('http://data.odeuropa.eu/vocabulary/olfactory-objects')]\n",
    "X = voc_emb[only_obj]"
   ]
  },
  {
   "cell_type": "code",
   "execution_count": 7,
   "id": "3bfc52a2-e7ea-494b-a770-ed3ed22d62f9",
   "metadata": {},
   "outputs": [],
   "source": [
    "n_clusters = 20"
   ]
  },
  {
   "cell_type": "code",
   "execution_count": 8,
   "id": "c5eac4a6-7cca-4e03-80a5-13448ccb0dd9",
   "metadata": {
    "scrolled": true
   },
   "outputs": [
    {
     "name": "stdout",
     "output_type": "stream",
     "text": [
      "Cluster id labels for inputted data\n",
      "[ 0  0 12  8 18 14 14 14 14 14 14 14 14 14  6  1 14 14 14 14 14 14  5 14\n",
      " 14 14 14 14 14 14 14 14 14 14 14 14 14  7 14 14  7 14 14 14 14 14 14 14\n",
      " 14  6 14 14  6 14 14 14 14 14 14 14 14 14 14 14 14  6 14 14 14 14 14 14\n",
      " 18 14 12 14  2  2 14 14  5 14 14  2 17  2 14 14 14 14  5 10 10 12  8 15\n",
      "  3 14 12  8 14 17 10  3  5 10 12  7  4  5 17  7  8  7  2 17 12  7  8  8\n",
      "  3  8 14  7  7  7  7  7  7  7  7  7  9  9  9  9  9  9 13 10 14 12  2  2\n",
      "  8  3  3 12 12 12  4 17  2 15  3 12  4  4  4  4 14 12  3  8 12  8 12  8\n",
      " 18  3  8  5  2  3  3  3 15  8  8  2 14 17  2  2  2  2  2  2  2  2  8 12\n",
      "  2  8 16  8  8 12  2  2  2  2 12 12 14 14 14 14 14 14 16 16 16 16 11 16\n",
      " 16 16 16 16 16  7 16 16 16 16  7  7  7  7  0  0  0  0  0  0  0  0  0  0\n",
      "  0  0  0  0  0  7  0  7  0  0  7  7  7  4  4  7  4  4  4  4  7  7  8  4\n",
      "  4  7  7 12 16  7  7  7  7  7  7  0 13  7  7  7  7  7  8 15 15 18 15  3\n",
      " 15 15  3 15 15  8 15  7  7  7 17 17 17 17 17 15 11 17 17  2  2  2  2  2\n",
      "  2  2  8 16  3  8 15  8  4 15 13 13  4 18  7 15  4  4 17 15  2 15 15  7\n",
      "  2 15  8  4 10 15 12 17 11  8 15  2  8  8  8  8 16 16 16 16 16  0  0 10\n",
      " 10 10  9  9 10 13 13 13 13 13 13 13  3 10 10 10 11 11 10 10 12 12 12  3\n",
      " 12  2 11 10 12  8  8 16 10 11  8 15  8  3  7  8  8 10  2  2 15 15 11 12\n",
      "  1 11 17 11 15 11  2  7  2 13 10  2  2  2 17 11 11 11 11  7  7  7  7  7\n",
      "  7 19  7  1  1  1  1  1 11 10 11 11 11 17 11 11 11 13 15 15 11 12 11 12\n",
      " 12 12  3  2 10 10  2 12  8 16 16  0 16  8  8 13 13 13 13  0  0  8 16  9\n",
      "  9  9  9  9 13 13  0  9  9  9 16  9  9  9  9 13 13 19 19 11 16 13 13 13\n",
      " 15 15  8 15 15 18 12 11  8 11 19 11 11 15  2 11 11 15 15 11  1 17 19 19\n",
      " 13  2 13 13 13 11 18  7  8  5  6 18 18 17  6 12  2 18 11 12  2  5  5  2\n",
      " 10  6  6 11  6 18  8 18 18  6 18  6 18 10  2  9]\n",
      "Score (Opposite of the value of X on the K-means objective which is Sum of distances of samples to their closest cluster center):\n",
      "-9221.97265625\n"
     ]
    },
    {
     "name": "stderr",
     "output_type": "stream",
     "text": [
      "/opt/homebrew/anaconda3/envs/odeuropa/lib/python3.10/site-packages/sklearn/cluster/_kmeans.py:1416: FutureWarning: The default value of `n_init` will change from 10 to 'auto' in 1.4. Set the value of `n_init` explicitly to suppress the warning\n",
      "  super()._check_params_vs_input(X, default_n_init=10)\n"
     ]
    }
   ],
   "source": [
    "from sklearn import cluster\n",
    "from sklearn import metrics\n",
    "kmeans = cluster.KMeans(n_clusters=n_clusters)\n",
    "kmeans.fit(X)\n",
    " \n",
    "labels = kmeans.labels_\n",
    "centroids = kmeans.cluster_centers_\n",
    " \n",
    "print (\"Cluster id labels for inputted data\")\n",
    "print (labels)\n",
    "# print (\"Centroids data\")\n",
    "# print (centroids)\n",
    " \n",
    "print (\"Score (Opposite of the value of X on the K-means objective which is Sum of distances of samples to their closest cluster center):\")\n",
    "print (kmeans.score(X))\n",
    " \n",
    "# silhouette_score = metrics.silhouette_score(X, labels, metric='euclidean')\n",
    " \n",
    "# print (\"Silhouette_score: \")\n",
    "# print (silhouette_score)"
   ]
  },
  {
   "cell_type": "code",
   "execution_count": 9,
   "id": "4c3aa25f-3d3a-4549-9fa1-113f485cb3d7",
   "metadata": {},
   "outputs": [
    {
     "name": "stdout",
     "output_type": "stream",
     "text": [
      "('http://data.odeuropa.eu/vocabulary/olfactory-objects/306', 3.910881280899048) Horse radish\n",
      "('http://data.odeuropa.eu/vocabulary/olfactory-objects/308', 3.902214527130127) Celery\n",
      "('http://data.odeuropa.eu/vocabulary/olfactory-objects/311', 3.8711423873901367) Cabbage\n",
      "('http://data.odeuropa.eu/vocabulary/olfactory-objects/304', 3.8469653129577637) Bellpepper\n",
      "('http://data.odeuropa.eu/vocabulary/olfactory-objects/309', 3.8126728534698486) Parsnip\n",
      "%%%%%%%%%%%%%%%\n",
      "('http://data.odeuropa.eu/vocabulary/olfactory-objects/43', 4.02849006652832) Cigarette\n",
      "('http://data.odeuropa.eu/vocabulary/olfactory-objects/42', 4.005650043487549) Cigar-holder\n",
      "('http://data.odeuropa.eu/vocabulary/olfactory-objects/40', 4.001083850860596) Cigar-box\n",
      "('http://data.odeuropa.eu/vocabulary/olfactory-objects/41', 3.9922971725463867) Cigar-case\n",
      "('http://data.odeuropa.eu/vocabulary/olfactory-objects/122', 3.987865447998047) Pipe\n",
      "%%%%%%%%%%%%%%%\n",
      "('http://data.odeuropa.eu/vocabulary/olfactory-objects/262', 1.9273463487625122) Mildew\n",
      "('http://data.odeuropa.eu/vocabulary/olfactory-objects/381', 1.910875916481018) Diesel fuel\n",
      "('http://data.odeuropa.eu/vocabulary/olfactory-objects/199', 1.90738046169281) Lake\n",
      "('http://data.odeuropa.eu/vocabulary/olfactory-objects/383', 1.8999696969985962) Petroleum\n",
      "('http://data.odeuropa.eu/vocabulary/olfactory-objects/198', 1.8955565690994263) Sea\n",
      "%%%%%%%%%%%%%%%\n",
      "('http://data.odeuropa.eu/vocabulary/olfactory-objects/552', 3.7941575050354004) Heliotropium\n",
      "('http://data.odeuropa.eu/vocabulary/olfactory-objects/232', 3.78950834274292) Laurel\n",
      "('http://data.odeuropa.eu/vocabulary/olfactory-objects/201', 3.7873036861419678) Lime blossom tree\n",
      "('http://data.odeuropa.eu/vocabulary/olfactory-objects/218', 3.755470037460327) Oak\n",
      "('http://data.odeuropa.eu/vocabulary/olfactory-objects/231', 3.7535338401794434) Juniper\n",
      "%%%%%%%%%%%%%%%\n",
      "('http://data.odeuropa.eu/vocabulary/olfactory-objects/411', 3.955967426300049) Cinnamon cassia\n",
      "('http://data.odeuropa.eu/vocabulary/olfactory-objects/321', 3.9525322914123535) Pepper\n",
      "('http://data.odeuropa.eu/vocabulary/olfactory-objects/395', 3.948964834213257) Allspice\n",
      "('http://data.odeuropa.eu/vocabulary/olfactory-objects/325', 3.939331293106079) Fennel\n",
      "('http://data.odeuropa.eu/vocabulary/olfactory-objects/324', 3.92939829826355) Anise\n",
      "%%%%%%%%%%%%%%%\n",
      "('http://data.odeuropa.eu/vocabulary/olfactory-objects/130', 3.456843376159668) Potpourri (Bowl)\n",
      "('http://data.odeuropa.eu/vocabulary/olfactory-objects/159', 3.431379795074463) Talc\n",
      "('http://data.odeuropa.eu/vocabulary/olfactory-objects/100', 3.4279286861419678) Mouth wash\n",
      "('http://data.odeuropa.eu/vocabulary/olfactory-objects/228', 3.391688346862793) Aqua mirabilis\n",
      "('http://data.odeuropa.eu/vocabulary/olfactory-objects/152', 3.3644115924835205) Soap\n",
      "%%%%%%%%%%%%%%%\n",
      "('http://data.odeuropa.eu/vocabulary/olfactory-objects/453', 3.586949110031128) Cup\n",
      "('http://data.odeuropa.eu/vocabulary/olfactory-objects/576', 3.4782655239105225) Beer stein\n",
      "('http://data.odeuropa.eu/vocabulary/olfactory-objects/549', 3.4575507640838623) Tobacco grater\n",
      "('http://data.odeuropa.eu/vocabulary/olfactory-objects/456', 3.4213695526123047) Carafe\n",
      "('http://data.odeuropa.eu/vocabulary/olfactory-objects/546', 3.409043312072754) Prayer nut\n",
      "%%%%%%%%%%%%%%%\n",
      "('http://data.odeuropa.eu/vocabulary/olfactory-objects/22', 3.638990879058838) Butter\n",
      "('http://data.odeuropa.eu/vocabulary/olfactory-objects/181', 3.624908208847046) Sausage\n",
      "('http://data.odeuropa.eu/vocabulary/olfactory-objects/340', 3.613346576690674) Yoghurt\n",
      "('http://data.odeuropa.eu/vocabulary/olfactory-objects/187', 3.613299608230591) Pie\n",
      "('http://data.odeuropa.eu/vocabulary/olfactory-objects/312', 3.6076252460479736) Mushroom\n",
      "%%%%%%%%%%%%%%%\n",
      "('http://data.odeuropa.eu/vocabulary/olfactory-objects/223', 3.8186302185058594) Violet\n",
      "('http://data.odeuropa.eu/vocabulary/olfactory-objects/82', 3.7866156101226807) Garland\n",
      "('http://data.odeuropa.eu/vocabulary/olfactory-objects/437', 3.7726094722747803) Neroli\n",
      "('http://data.odeuropa.eu/vocabulary/olfactory-objects/226', 3.759752035140991) Hyacinth\n",
      "('http://data.odeuropa.eu/vocabulary/olfactory-objects/175', 3.7434701919555664) Lily-of-the-valley\n",
      "%%%%%%%%%%%%%%%\n",
      "('http://data.odeuropa.eu/vocabulary/olfactory-objects/502', 3.8056938648223877) Lion\n",
      "('http://data.odeuropa.eu/vocabulary/olfactory-objects/513', 3.7843074798583984) Wolf\n",
      "('http://data.odeuropa.eu/vocabulary/olfactory-objects/510', 3.7444190979003906) Guinea pig\n",
      "('http://data.odeuropa.eu/vocabulary/olfactory-objects/499', 3.7271063327789307) Monkey\n",
      "('http://data.odeuropa.eu/vocabulary/olfactory-objects/512', 3.7147915363311768) Tiger\n",
      "%%%%%%%%%%%%%%%\n",
      "('http://data.odeuropa.eu/vocabulary/olfactory-objects/45', 3.6713504791259766) Civet (mammal)\n",
      "('http://data.odeuropa.eu/vocabulary/olfactory-objects/68', 3.6670339107513428) Fish\n",
      "('http://data.odeuropa.eu/vocabulary/olfactory-objects/101', 3.658297300338745) Musk Deer\n",
      "('http://data.odeuropa.eu/vocabulary/olfactory-objects/56', 3.6473793983459473) Dragon\n",
      "('http://data.odeuropa.eu/vocabulary/olfactory-objects/146', 3.631774425506592) Skunk\n",
      "%%%%%%%%%%%%%%%\n",
      "('http://data.odeuropa.eu/vocabulary/olfactory-objects/54', 3.591176986694336) Distillation equipment\n",
      "('http://data.odeuropa.eu/vocabulary/olfactory-objects/25', 3.5748651027679443) Candle\n",
      "('http://data.odeuropa.eu/vocabulary/olfactory-objects/10', 3.573061227798462) Alchemy Equipment\n",
      "('http://data.odeuropa.eu/vocabulary/olfactory-objects/3', 3.5516812801361084) Bath\n",
      "('http://data.odeuropa.eu/vocabulary/olfactory-objects/28', 3.5468077659606934) Cassolette\n",
      "%%%%%%%%%%%%%%%\n",
      "('http://data.odeuropa.eu/vocabulary/olfactory-objects/204', 3.48018217086792) Tolu balm\n",
      "('http://data.odeuropa.eu/vocabulary/olfactory-objects/220', 3.479407787322998) Opoponax\n",
      "('http://data.odeuropa.eu/vocabulary/olfactory-objects/217', 3.4772257804870605) Styrax\n",
      "('http://data.odeuropa.eu/vocabulary/olfactory-objects/203', 3.470778703689575) Benzoin\n",
      "('http://data.odeuropa.eu/vocabulary/olfactory-objects/197', 3.444220781326294) Labdanum\n",
      "%%%%%%%%%%%%%%%\n",
      "('http://data.odeuropa.eu/vocabulary/olfactory-objects/466', 3.6057586669921875) Butterfly\n",
      "('http://data.odeuropa.eu/vocabulary/olfactory-objects/490', 3.6006574630737305) Ant\n",
      "('http://data.odeuropa.eu/vocabulary/olfactory-objects/470', 3.5873613357543945) Prawn\n",
      "('http://data.odeuropa.eu/vocabulary/olfactory-objects/491', 3.564628839492798) Dragonfly\n",
      "('http://data.odeuropa.eu/vocabulary/olfactory-objects/504', 3.556129217147827) Grasshopper\n",
      "%%%%%%%%%%%%%%%\n",
      "('http://data.odeuropa.eu/vocabulary/olfactory-objects/143', 3.565790891647339) Scent box\n",
      "('http://data.odeuropa.eu/vocabulary/olfactory-objects/128', 3.4998726844787598) Pomander Watch\n",
      "('http://data.odeuropa.eu/vocabulary/olfactory-objects/127', 3.4963479042053223) Pomander ship\n",
      "('http://data.odeuropa.eu/vocabulary/olfactory-objects/129', 3.4722702503204346) Posy holder\n",
      "('http://data.odeuropa.eu/vocabulary/olfactory-objects/63', 3.470811128616333) Hand Fan\n",
      "%%%%%%%%%%%%%%%\n",
      "('http://data.odeuropa.eu/vocabulary/olfactory-objects/239', 3.679483413696289) Acacia farnesiana\n",
      "('http://data.odeuropa.eu/vocabulary/olfactory-objects/18', 3.676236152648926) Bouquet\n",
      "('http://data.odeuropa.eu/vocabulary/olfactory-objects/139', 3.6449029445648193) Organic waste\n",
      "('http://data.odeuropa.eu/vocabulary/olfactory-objects/372', 3.6385767459869385) Furze\n",
      "('http://data.odeuropa.eu/vocabulary/olfactory-objects/354', 3.6234703063964844) Rapeseed\n",
      "%%%%%%%%%%%%%%%\n",
      "('http://data.odeuropa.eu/vocabulary/olfactory-objects/284', 3.9110255241394043) Rhubarb\n",
      "('http://data.odeuropa.eu/vocabulary/olfactory-objects/441', 3.9100160598754883) Apple\n",
      "('http://data.odeuropa.eu/vocabulary/olfactory-objects/280', 3.871858596801758) Blackcurrant\n",
      "('http://data.odeuropa.eu/vocabulary/olfactory-objects/289', 3.8650577068328857) Pineapple\n",
      "('http://data.odeuropa.eu/vocabulary/olfactory-objects/278', 3.8483734130859375) Mandarin\n",
      "%%%%%%%%%%%%%%%\n",
      "('http://data.odeuropa.eu/vocabulary/olfactory-objects/537', 3.512972593307495) Breath\n",
      "('http://data.odeuropa.eu/vocabulary/olfactory-objects/368', 3.490581512451172) Semen\n",
      "('http://data.odeuropa.eu/vocabulary/olfactory-objects/369', 3.4721689224243164) Cat urine\n",
      "('http://data.odeuropa.eu/vocabulary/olfactory-objects/367', 3.4220590591430664) Sweat\n",
      "('http://data.odeuropa.eu/vocabulary/olfactory-objects/241', 3.396843671798706) Gangreen\n",
      "%%%%%%%%%%%%%%%\n",
      "('http://data.odeuropa.eu/vocabulary/olfactory-objects/551', 3.8573529720306396) Orange blossom\n",
      "('http://data.odeuropa.eu/vocabulary/olfactory-objects/550', 3.814485549926758) Reseda\n",
      "('http://data.odeuropa.eu/vocabulary/olfactory-objects/543', 3.7912356853485107) Algae\n",
      "('http://data.odeuropa.eu/vocabulary/olfactory-objects/573', 3.7371108531951904) Bellflower\n",
      "('http://data.odeuropa.eu/vocabulary/olfactory-objects/567', 3.7145726680755615) Ranunculus\n",
      "%%%%%%%%%%%%%%%\n",
      "('http://data.odeuropa.eu/vocabulary/olfactory-objects/521', 3.7704014778137207) Chestnut\n",
      "('http://data.odeuropa.eu/vocabulary/olfactory-objects/405', 3.715712308883667) Food\n",
      "('http://data.odeuropa.eu/vocabulary/olfactory-objects/50', 3.6445586681365967) Coffee\n",
      "('http://data.odeuropa.eu/vocabulary/olfactory-objects/511', 3.616610288619995) Apricot\n",
      "('http://data.odeuropa.eu/vocabulary/olfactory-objects/22', 3.541247844696045) Butter\n",
      "%%%%%%%%%%%%%%%\n"
     ]
    }
   ],
   "source": [
    "new_centroids = []\n",
    "for i, x in enumerate(centroids):\n",
    "    top = voc_emb.most_similar_cosmul(x, topn=5)\n",
    "    for y in top:\n",
    "        print(y, label(y[0]))\n",
    "\n",
    "    new_centroids.append(top[0][0])\n",
    "    print('%%%%%%%%%%%%%%%')"
   ]
  },
  {
   "cell_type": "code",
   "execution_count": 10,
   "id": "695bd3d3-3fcb-4cc5-a63d-32dc61e6cdba",
   "metadata": {},
   "outputs": [],
   "source": [
    "# len(only_obj)\n",
    "\n",
    "import pandas as pd\n",
    "top_concepts = pd.read_csv('embeddings//top-concepts.csv')\n",
    "concepts = list(set(top_concepts['sub'].to_list()))"
   ]
  },
  {
   "cell_type": "code",
   "execution_count": 11,
   "id": "b8f51f47-3d52-415e-a27f-5c80715c592c",
   "metadata": {},
   "outputs": [
    {
     "data": {
      "text/plain": [
       "(0.8971609626051533, 0.6120032611941473, 0.7276417321213319)"
      ]
     },
     "execution_count": 11,
     "metadata": {},
     "output_type": "execute_result"
    }
   ],
   "source": [
    "from sklearn.metrics import homogeneity_completeness_v_measure\n",
    "\n",
    "import numpy as np\n",
    "from collections import Counter\n",
    "\n",
    "def flatten_concatenation(matrix):\n",
    "     flat_list = []\n",
    "     for row in matrix:\n",
    "         flat_list += row\n",
    "     return flat_list\n",
    "\n",
    "def get_top_concept(t):\n",
    "    return top_concepts[top_concepts['sub'] == t]['top'].to_list()\n",
    "\n",
    "classes = [get_top_concept(t) for t in only_obj]\n",
    "\n",
    "priorities = []\n",
    "for clust in set(labels):\n",
    "    ps = np.where(labels==clust)[0]\n",
    "    members = flatten_concatenation([classes[x] for x in ps])\n",
    "    counting = dict(Counter(members))\n",
    "    priority = sorted([id for id in counting.items()],key=lambda a: a[1], reverse= True)\n",
    "    priority = [a[0] for a in priority]\n",
    "    priorities.append(priority)\n",
    "    \n",
    "classes_flat = []\n",
    "for i, x in enumerate(classes):\n",
    "    if len(x) == 1:\n",
    "        classes_flat.append(x[0])\n",
    "    else:\n",
    "        done = False\n",
    "        for p in priorities[labels[i]]:\n",
    "            if p in x:\n",
    "                classes_flat.append(p)\n",
    "                done = True\n",
    "                break\n",
    "        if not done:\n",
    "            print('error')\n",
    "\n",
    "homogeneity_completeness_v_measure(classes_flat, labels)"
   ]
  },
  {
   "cell_type": "code",
   "execution_count": 12,
   "id": "f42c2b7f-c7b8-4ad0-8170-a4219ff8c1c6",
   "metadata": {},
   "outputs": [
    {
     "name": "stdout",
     "output_type": "stream",
     "text": [
      "CPU times: user 16.7 s, sys: 8.31 s, total: 25 s\n",
      "Wall time: 3.67 s\n"
     ]
    }
   ],
   "source": [
    "%%time\n",
    "\n",
    "from sklearn.manifold import TSNE\n",
    "\n",
    "tsne = TSNE(random_state=1, n_iter=15000, metric=\"cosine\")\n",
    "\n",
    "embs = tsne.fit_transform(X)"
   ]
  },
  {
   "cell_type": "code",
   "execution_count": 13,
   "id": "add2865f-9003-4ffa-a5cc-bdec0abbdd18",
   "metadata": {},
   "outputs": [],
   "source": [
    "df = pd.DataFrame()\n",
    "df['id'] = only_obj\n",
    "# df['label'] = df['id'].apply(label)\n",
    "df['x'] = embs[:, 0]\n",
    "df['y'] = embs[:, 1]"
   ]
  },
  {
   "cell_type": "code",
   "execution_count": 14,
   "id": "9fa99c89-ff0a-4a5a-87b6-3112ccff3375",
   "metadata": {},
   "outputs": [],
   "source": [
    "import matplotlib.pyplot as plt\n",
    "import matplotlib.cm as cm\n",
    "%matplotlib inline\n",
    "\n",
    "\n",
    "FS = (10, 8)\n",
    "fig, ax = plt.subplots(figsize=FS)\n",
    "# Make points translucent so we can visually identify regions with a high density of overlapping points\n",
    "ax.scatter(embs[:,0], embs[:,1], c=labels, alpha=.1)\n",
    "\n",
    "for x in new_centroids:\n",
    "    idx = voc_emb.key_to_index[x]\n",
    "    if idx not in embs:\n",
    "        continue\n",
    "    coords = embs[idx]\n",
    "    ax.text(coords[0], coords[1], label(x))"
   ]
  },
  {
   "cell_type": "code",
   "execution_count": 15,
   "id": "fcd829a7-7a91-468b-ac59-2698e957c909",
   "metadata": {},
   "outputs": [],
   "source": [
    "def get_uri_by_label():\n",
    "    q = '''\n",
    "        PREFIX skos: <http://www.w3.org/2004/02/skos/core#>\n",
    "        PREFIX onto: <http://www.ontotext.com/>\n",
    "        PREFIX rdfs: <http://www.w3.org/2000/01/rdf-schema#>\n",
    "\n",
    "        SELECT ?uri\n",
    "        FROM onto:explicit\n",
    "        WHERE {\n",
    "            ?uri skos:prefLabel|rdfs:label \"%s\"@en\n",
    "        }\n",
    "    ''' % uri\n",
    "    sparql.setQuery(q)\n",
    "    ret = sparql.queryAndConvert()\n",
    "    data = [l['uri'] for l in ret['results']['bindings']]\n",
    "    if len(data) < 1:\n",
    "        return None\n",
    "    return data[0]['value']"
   ]
  },
  {
   "cell_type": "code",
   "execution_count": 16,
   "id": "b5ebf7d6-c8be-469f-8a6d-20fdb97cb4ec",
   "metadata": {},
   "outputs": [],
   "source": [
    "# Some helper functions for plotting annotated t-SNE visualizations\n",
    "\n",
    "# TODO: adjust_text not available in kernels\n",
    "try:\n",
    "    from adjustText import adjust_text\n",
    "except ImportError:\n",
    "    def adjust_text(*args, **kwargs):\n",
    "        pass\n",
    "\n",
    "def adjust_text(*args, **kwargs):\n",
    "    pass\n",
    "\n",
    "def plot_bg(bg_alpha=.01, figsize=(13, 9), emb_2d=None):\n",
    "    \"\"\"Create and return a plot of all our movie embeddings with very low opacity.\n",
    "    (Intended to be used as a basis for further - more prominent - plotting of a \n",
    "    subset of movies. Having the overall shape of the map space in the background is\n",
    "    useful for context.)\n",
    "    \"\"\"\n",
    "    if emb_2d is None:\n",
    "        emb_2d = embs\n",
    "    fig, ax = plt.subplots(figsize=figsize)\n",
    "    X = emb_2d[:, 0]\n",
    "    Y = emb_2d[:, 1]\n",
    "    ax.scatter(X, Y, alpha=bg_alpha)\n",
    "    return ax\n",
    "\n",
    "def annotate_sample(n, n_ratings_thresh=0):\n",
    "    \"\"\"Plot our embeddings with a random sample of n movies annotated.\n",
    "    Only selects movies where the number of ratings is at least n_ratings_thresh.\n",
    "    \"\"\"\n",
    "    sample = mainstream_movies[mainstream_movies.n_ratings >= n_ratings_thresh].sample(\n",
    "        n, random_state=1)\n",
    "    plot_with_annotations(sample.index)\n",
    "\n",
    "def plot_by_label_pattern(pattern, **kwargs):\n",
    "    \"\"\"Plot all movies whose labels match the given regex pattern.\n",
    "    \"\"\"\n",
    "    match = df[df.label.str.contains(pattern)]\n",
    "    return plot_with_annotations(match.index, **kwargs)\n",
    "\n",
    "def add_annotations(ax, label_indices, emb_2d=None, **kwargs):\n",
    "    if emb_2d is None:\n",
    "        emb_2d = embs\n",
    "    X = emb_2d[label_indices, 0]\n",
    "    Y = emb_2d[label_indices, 1]\n",
    "    ax.scatter(X, Y, **kwargs)\n",
    "\n",
    "def plot_with_annotations(label_indices, text=True, labels=None, alpha=1, **kwargs):\n",
    "    ax = plot_bg(**kwargs)\n",
    "    Xlabeled = embs[label_indices, 0]\n",
    "    Ylabeled = embs[label_indices, 1]\n",
    "    if labels is not None:\n",
    "        for x, y, label in zip(Xlabeled, Ylabeled, labels):\n",
    "            ax.scatter(x, y, alpha=alpha, label=label, marker='1',\n",
    "                       s=90,\n",
    "                      )\n",
    "        fig.legend()\n",
    "    else:\n",
    "        ax.scatter(Xlabeled, Ylabeled, alpha=alpha, color='green')\n",
    "    \n",
    "    if text:\n",
    "        # TODO: Add abbreviated label column\n",
    "        labels = mainstream_movies.loc[label_indices, 'label'].values\n",
    "        texts = []\n",
    "        for label, x, y in zip(labels, Xlabeled, Ylabeled):\n",
    "            t = ax.annotate(label, xy=(x, y))\n",
    "            texts.append(t)\n",
    "        adjust_text(texts, \n",
    "                    #expand_text=(1.01, 1.05),\n",
    "                    arrowprops=dict(arrowstyle='->', color='red'),\n",
    "                   )\n",
    "    return ax\n",
    "\n",
    "FS = (13, 9)\n",
    "def plot_region(x0, x1, y0, y1, text=True):\n",
    "    \"\"\"Plot the region of the mapping space bounded by the given x and y limits.\n",
    "    \"\"\"\n",
    "    fig, ax = plt.subplots(figsize=FS)\n",
    "    pts = df[\n",
    "        (df.x >= x0) & (df.x <= x1)\n",
    "        & (df.y >= y0) & (df.y <= y1)\n",
    "    ]\n",
    "    ax.scatter(pts.x, pts.y, alpha=.6)\n",
    "    ax.set_xlim(x0, x1)\n",
    "    ax.set_ylim(y0, y1)\n",
    "    if text:\n",
    "        texts = []\n",
    "        for id, x, y in zip(pts.id.values, pts.x.values, pts.y.values):\n",
    "            t = ax.annotate(label(id), xy=(x, y))\n",
    "            texts.append(t)\n",
    "        adjust_text(texts, expand_text=(1.01, 1.05))\n",
    "    return ax\n",
    "\n",
    "def plot_region_around(label, margin=5, **kwargs):\n",
    "    \"\"\"Plot the region of the mapping space in the neighbourhood of the the movie with\n",
    "    the given label. The margin parameter controls the size of the neighbourhood around\n",
    "    the movie.\n",
    "    \"\"\"\n",
    "    xmargin = ymargin = margin\n",
    "    match = df[df['id'] == label]\n",
    "    #assert len(match) == 1\n",
    "    row = match.iloc[0]\n",
    "    return plot_region(row.x-xmargin, row.x+xmargin, row.y-ymargin, row.y+ymargin, **kwargs)"
   ]
  },
  {
   "cell_type": "code",
   "execution_count": 17,
   "id": "6d03e8f2-293b-47a8-9b96-16756369dbfd",
   "metadata": {},
   "outputs": [
    {
     "data": {
      "text/plain": [
       "<Axes: >"
      ]
     },
     "execution_count": 17,
     "metadata": {},
     "output_type": "execute_result"
    }
   ],
   "source": [
    "plot_region_around('http://data.odeuropa.eu/vocabulary/olfactory-objects/267')"
   ]
  },
  {
   "cell_type": "code",
   "execution_count": 18,
   "id": "fb8ae480-9dbe-4c6e-8230-ab4c978c383b",
   "metadata": {},
   "outputs": [],
   "source": [
    "# Same with Dist Mult\n",
    "kv = KeyedVectors.load_word2vec_format(path.join(root,'distmult_entity.bin'), binary=True)\n",
    "only_obj= [l for l in kv.key_to_index.keys() if l.startswith('http://data.odeuropa.eu/vocabulary/olfactory-objects')]\n",
    "CATS = ['http://data.odeuropa.eu/vocabulary/olfactory-objects/artifact','http://data.odeuropa.eu/vocabulary/olfactory-objects/carrier','http://data.odeuropa.eu/vocabulary/olfactory-objects/smell-source','http://data.odeuropa.eu/vocabulary/olfactory-objects/smell_carrier']\n",
    "only_obj = [l for l in only_obj if l not in CATS]\n",
    "        \n",
    "X = kv[only_obj]"
   ]
  },
  {
   "cell_type": "code",
   "execution_count": 19,
   "id": "219fd0a6-628c-4e67-9b88-cbbd3e2264af",
   "metadata": {},
   "outputs": [
    {
     "name": "stderr",
     "output_type": "stream",
     "text": [
      "/opt/homebrew/anaconda3/envs/odeuropa/lib/python3.10/site-packages/sklearn/cluster/_kmeans.py:1416: FutureWarning: The default value of `n_init` will change from 10 to 'auto' in 1.4. Set the value of `n_init` explicitly to suppress the warning\n",
      "  super()._check_params_vs_input(X, default_n_init=10)\n"
     ]
    },
    {
     "name": "stdout",
     "output_type": "stream",
     "text": [
      "Cluster id labels for inputted data\n",
      "[ 0 12  0  4  4  5 18 18 12 11 19  5 12  2 12  7 16 17 14 17 14 17 12  6\n",
      " 17 12  0 12 12 17  3 12 14 14  8 12 12 12 12 12  3 14 14 18  1  4 14 12\n",
      " 17 14 14 11  4  3 14 12  7  1 14  0  4 16  7 10 12 14 12  7 11  7  1 14\n",
      "  7  7 11  5  0  7 11 18 13 13 19 14 18  0 10  7 17 18 10  7  2  7  7  7\n",
      "  7  7  4  4 12  4  4  4  4  4  4 14 16  3  3  7 17 15 15 15 16 16 16  7\n",
      " 11  9 15 10 15  5  7  7  7  7  0 16 15  1  7 16  1 16  1 15 15  1  0 16\n",
      " 11  8  9 13 13  0 13 13  1 18 19 15 13 12 11  9  9  9  3  3  9  9  3  0\n",
      "  1 17 16 16 19  1 10 18 18  5  9 12  3  3  3 14  9  9 16  1  5 18 11  0\n",
      " 14  0 12  0  5  7 10 10 12 10 10 10  7  7 10 10 10  7 10 12 10 10  2 10\n",
      "  7  7  7 10  2  7 12 14  2  2  2  2  2  2  7  2  2  2 14  2  2  7  2 10\n",
      "  7  7  7  7  7  7  7  7  7  7  7  7  7  7  2  1  9  7 10 13  7 16 10  7\n",
      "  7  7  7 12  7  7  8  8  7 16  7  2  2 10  7  1 15 15 13 15 15 15 15 15\n",
      " 15  7 15 15  1  2  7  2  0 11 11 11 16 15 11 15 12 17 11 11 19 19  3 12\n",
      "  3  3  3  3  1  2  7  4 15 13  0 13 18 11 19  7  7 15  4  4 16 17 14 16\n",
      " 16 15 10 19 10  7 13 13 13 14 15  7 17 19  7 15 14  3 11 15 14  9 15 15\n",
      "  7  9 15 15  7  4 15 14  9 16 16  0  1 13  3  1 18 18 16 18 10 10 10 10\n",
      " 10  2  2 17  0  4 17 17 17 17  0 17 17 17 14  8  3  8  8  8  4  8  8  8\n",
      "  8  8  8  9  8  8 17 17  0 17 15  8  8  8 16  8 14  1 10 10  2  1 18  8\n",
      "  8 14  4  8 14 14  2  2 17  1 10  4  4  7  4  4  4  4  4 14  8  2  8  4\n",
      " 12  4  2  4  4  4  4  8 17  4 14  0 10  7 14  1  8  4  4 15  1  1 12 15\n",
      " 15 15 11  7 10 16 11  3  8 12  8  4  8  1  7  1 14 12 12 12  4  1 13  1\n",
      " 11 17  8 16  6 16  3  4 15 17  9 19 17 11 12  1 18 18 14 18  4 17  1 17\n",
      "  1 17 19  4 16 16 14 16 15  5 14  0 16  9  0  8  0 17 17 16 15  1  1 10\n",
      " 11  0 13  7 12 17 13  1 14 17 17  0 13 10 17  6 14  1 18 14 12 17 12 12\n",
      " 11 14]\n",
      "Score (Opposite of the value of X on the K-means objective which is Sum of distances of samples to their closest cluster center):\n",
      "-224.35745239257812\n"
     ]
    }
   ],
   "source": [
    "kmeans = cluster.KMeans(n_clusters=n_clusters)\n",
    "kmeans.fit(X)\n",
    " \n",
    "labels = kmeans.labels_\n",
    "centroids = kmeans.cluster_centers_\n",
    " \n",
    "print (\"Cluster id labels for inputted data\")\n",
    "print (labels)\n",
    "# print (\"Centroids data\")\n",
    "# print (centroids)\n",
    " \n",
    "print (\"Score (Opposite of the value of X on the K-means objective which is Sum of distances of samples to their closest cluster center):\")\n",
    "print (kmeans.score(X))\n",
    " \n",
    "# silhouette_score = metrics.silhouette_score(X, labels, metric='euclidean')\n",
    " \n",
    "# print (\"Silhouette_score: \")\n",
    "# print (silhouette_score)"
   ]
  },
  {
   "cell_type": "code",
   "execution_count": 20,
   "id": "dd88d17a-0b3e-4810-8647-04d4a15abfc0",
   "metadata": {},
   "outputs": [
    {
     "name": "stdout",
     "output_type": "stream",
     "text": [
      "('http://data.odeuropa.eu/vocabulary/olfactory-objects/67', 0.8280248045921326) Fireplace\n",
      "('http://data.odeuropa.eu/vocabulary/olfactory-objects/1', 0.827919602394104) Amulet\n",
      "('http://data.odeuropa.eu/vocabulary/olfactory-objects/271', 0.8255181908607483) Ink\n",
      "('http://data.odeuropa.eu/vocabulary/olfactory-objects/69', 0.8246099948883057) Flacon\n",
      "('http://data.odeuropa.eu/vocabulary/olfactory-objects/39', 0.8172957301139832) Cigar\n",
      "%%%%%%%%%%%%%%%\n",
      "('http://data.odeuropa.eu/vocabulary/olfactory-objects/482', 0.8600473999977112) Dahlia\n",
      "('http://data.odeuropa.eu/vocabulary/olfactory-objects/329', 0.8575294017791748) Woodruff\n",
      "('http://data.odeuropa.eu/vocabulary/olfactory-objects/569', 0.8515503406524658) Dandelion\n",
      "('http://data.odeuropa.eu/vocabulary/olfactory-objects/82', 0.850074052810669) Garland\n",
      "('http://data.odeuropa.eu/vocabulary/olfactory-objects/545', 0.8500646352767944) Mimosa\n",
      "%%%%%%%%%%%%%%%\n",
      "('http://data.odeuropa.eu/vocabulary/olfactory-objects/495', 0.8771436810493469) Avocado\n",
      "('http://data.odeuropa.eu/vocabulary/olfactory-objects/309', 0.8708953857421875) Parsnip\n",
      "('http://data.odeuropa.eu/vocabulary/olfactory-objects/385', 0.8692424297332764) Passion fruit\n",
      "('http://data.odeuropa.eu/vocabulary/olfactory-objects/302', 0.8601500988006592) Chives\n",
      "('http://data.odeuropa.eu/vocabulary/olfactory-objects/485', 0.8564448356628418) Radish\n",
      "%%%%%%%%%%%%%%%\n",
      "('http://data.odeuropa.eu/vocabulary/olfactory-objects/249', 0.8013588786125183) Peat\n",
      "('http://data.odeuropa.eu/vocabulary/olfactory-objects/263', 0.798876166343689) Mould\n",
      "('http://data.odeuropa.eu/vocabulary/olfactory-objects/246', 0.7955113649368286) Petrichor\n",
      "('http://data.odeuropa.eu/vocabulary/olfactory-objects/262', 0.7953538298606873) Mildew\n",
      "('http://data.odeuropa.eu/vocabulary/olfactory-objects/381', 0.7951872944831848) Diesel fuel\n",
      "%%%%%%%%%%%%%%%\n",
      "('http://data.odeuropa.eu/vocabulary/olfactory-objects/45', 0.8719606399536133) Civet (mammal)\n",
      "('http://data.odeuropa.eu/vocabulary/olfactory-objects/510', 0.8605377674102783) Guinea pig\n",
      "('http://data.odeuropa.eu/vocabulary/olfactory-objects/514', 0.8576589822769165) Bear\n",
      "('http://data.odeuropa.eu/vocabulary/olfactory-objects/463', 0.8573682308197021) Donkey\n",
      "('http://data.odeuropa.eu/vocabulary/olfactory-objects/14', 0.8570751547813416) Beaver\n",
      "%%%%%%%%%%%%%%%\n",
      "('http://data.odeuropa.eu/vocabulary/olfactory-objects/103', 0.8579356670379639) Myrrh\n",
      "('http://data.odeuropa.eu/vocabulary/olfactory-objects/167', 0.8550417423248291) Wax\n",
      "('http://data.odeuropa.eu/vocabulary/olfactory-objects/276', 0.8315386772155762) Rubber\n",
      "('http://data.odeuropa.eu/vocabulary/olfactory-objects/259', 0.8274208903312683) Resin\n",
      "('http://data.odeuropa.eu/vocabulary/olfactory-objects/211', 0.8260517716407776) Balm\n",
      "%%%%%%%%%%%%%%%\n",
      "('http://data.odeuropa.eu/vocabulary/olfactory-objects/12', 0.8509037494659424) Anatomical Lessons\n",
      "('http://data.odeuropa.eu/vocabulary/olfactory-objects/9', 0.8500494360923767) Burnt offering\n",
      "('http://data.odeuropa.eu/vocabulary/olfactory-objects/557', 0.7745407223701477) Blossom\n",
      "('http://data.odeuropa.eu/vocabulary/historical-scent/industrial_soot', 0.6458319425582886) Soot\n",
      "('http://data.odeuropa.eu/attribute/various_en', 0.6403833627700806) various\n",
      "%%%%%%%%%%%%%%%\n",
      "('http://data.odeuropa.eu/vocabulary/olfactory-objects/495', 0.8351484537124634) Avocado\n",
      "('http://data.odeuropa.eu/vocabulary/olfactory-objects/317', 0.8330345153808594) Curry\n",
      "('http://data.odeuropa.eu/vocabulary/olfactory-objects/316', 0.8293018937110901) Cress\n",
      "('http://data.odeuropa.eu/vocabulary/olfactory-objects/385', 0.8286517262458801) Passion fruit\n",
      "('http://data.odeuropa.eu/vocabulary/olfactory-objects/386', 0.823102593421936) Schalg\n",
      "%%%%%%%%%%%%%%%\n",
      "('http://data.odeuropa.eu/vocabulary/olfactory-objects/459', 0.8407585620880127) Vertebrate\n",
      "('http://data.odeuropa.eu/vocabulary/olfactory-objects/555', 0.8336924314498901) Being\n",
      "('http://data.odeuropa.eu/vocabulary/olfactory-objects/477', 0.833657443523407) Reptile/Amphibia\n",
      "('http://data.odeuropa.eu/vocabulary/olfactory-objects/479', 0.8330672383308411) Amphibia\n",
      "('http://data.odeuropa.eu/vocabulary/olfactory-objects/471', 0.8317880630493164) Insect\n",
      "%%%%%%%%%%%%%%%\n",
      "('http://data.odeuropa.eu/vocabulary/olfactory-objects/420', 0.8147054314613342) Aceltene\n",
      "('http://data.odeuropa.eu/vocabulary/olfactory-objects/248', 0.8127192258834839) Carbolic acid\n",
      "('http://data.odeuropa.eu/vocabulary/olfactory-objects/247', 0.8106216788291931) Ozone\n",
      "('http://data.odeuropa.eu/vocabulary/olfactory-objects/208', 0.80645352602005) Coumarin\n",
      "('http://data.odeuropa.eu/vocabulary/olfactory-objects/430', 0.8028251528739929) Acetic acid\n",
      "%%%%%%%%%%%%%%%\n",
      "('http://data.odeuropa.eu/vocabulary/olfactory-objects/285', 0.8340277075767517) Peach\n",
      "('http://data.odeuropa.eu/vocabulary/olfactory-objects/286', 0.8309910297393799) Plum\n",
      "('http://data.odeuropa.eu/vocabulary/olfactory-objects/278', 0.8275216221809387) Mandarin\n",
      "('http://data.odeuropa.eu/vocabulary/olfactory-objects/287', 0.8272550702095032) Grape\n",
      "('http://data.odeuropa.eu/vocabulary/olfactory-objects/290', 0.8266400098800659) Pear\n",
      "%%%%%%%%%%%%%%%\n",
      "('http://data.odeuropa.eu/vocabulary/olfactory-objects/418', 0.8048111796379089) Slurry\n",
      "('http://data.odeuropa.eu/vocabulary/olfactory-objects/376', 0.8021382093429565) Cod liver oil\n",
      "('http://data.odeuropa.eu/vocabulary/olfactory-objects/371', 0.7981413006782532) Liquid manure\n",
      "('http://data.odeuropa.eu/vocabulary/olfactory-objects/375', 0.7867510914802551) Whale oil\n",
      "('http://data.odeuropa.eu/vocabulary/olfactory-objects/553', 0.7855730652809143) Spermaceti\n",
      "%%%%%%%%%%%%%%%\n",
      "('http://data.odeuropa.eu/vocabulary/olfactory-objects/260', 0.8924339413642883) Cashmere\n",
      "('http://data.odeuropa.eu/vocabulary/olfactory-objects/19', 0.8754132986068726) Bouquet Holder\n",
      "('http://data.odeuropa.eu/vocabulary/olfactory-objects/547', 0.8746509552001953) Ammonia soap\n",
      "('http://data.odeuropa.eu/vocabulary/olfactory-objects/149', 0.8705404996871948) Smelling Box\n",
      "('http://data.odeuropa.eu/vocabulary/olfactory-objects/41', 0.8667622208595276) Cigar-case\n",
      "%%%%%%%%%%%%%%%\n",
      "('http://data.odeuropa.eu/vocabulary/olfactory-objects/409', 0.8175732493400574) Thyme\n",
      "('http://data.odeuropa.eu/vocabulary/olfactory-objects/408', 0.8119696974754333) Rosemary\n",
      "('http://data.odeuropa.eu/vocabulary/olfactory-objects/389', 0.8085579872131348) Musk mallow\n",
      "('http://data.odeuropa.eu/vocabulary/olfactory-objects/235', 0.8063097596168518) Mint\n",
      "('http://data.odeuropa.eu/vocabulary/olfactory-objects/407', 0.7991297245025635) Basilic\n",
      "%%%%%%%%%%%%%%%\n",
      "('http://data.odeuropa.eu/vocabulary/olfactory-objects/260', 0.8870705366134644) Cashmere\n",
      "('http://data.odeuropa.eu/vocabulary/olfactory-objects/129', 0.8779476881027222) Posy holder\n",
      "('http://data.odeuropa.eu/vocabulary/olfactory-objects/31', 0.8763151168823242) Chatelaine flask\n",
      "('http://data.odeuropa.eu/vocabulary/olfactory-objects/41', 0.8749477863311768) Cigar-case\n",
      "('http://data.odeuropa.eu/vocabulary/olfactory-objects/519', 0.8745894432067871) Rope tobacco\n",
      "%%%%%%%%%%%%%%%\n",
      "('http://data.odeuropa.eu/vocabulary/olfactory-objects/421', 0.7994313836097717) Tagetes\n",
      "('http://data.odeuropa.eu/vocabulary/olfactory-objects/357', 0.7979748845100403) Fir needle\n",
      "('http://data.odeuropa.eu/vocabulary/olfactory-objects/360', 0.797714114189148) Cedar (Lebanon)\n",
      "('http://data.odeuropa.eu/vocabulary/olfactory-objects/354', 0.797340989112854) Rapeseed\n",
      "('http://data.odeuropa.eu/vocabulary/olfactory-objects/396', 0.7970954775810242) Oud\n",
      "%%%%%%%%%%%%%%%\n",
      "('http://data.odeuropa.eu/vocabulary/olfactory-objects/252', 0.8315637111663818) Boldoot\n",
      "('http://data.odeuropa.eu/vocabulary/olfactory-objects/228', 0.8288950324058533) Aqua mirabilis\n",
      "('http://data.odeuropa.eu/vocabulary/olfactory-objects/400', 0.8278661966323853) Florida Water\n",
      "('http://data.odeuropa.eu/vocabulary/olfactory-objects/399', 0.8234630823135376) Reukwerk\n",
      "('http://data.odeuropa.eu/vocabulary/olfactory-objects/113', 0.8216738700866699) Peau d'Espagne\n",
      "%%%%%%%%%%%%%%%\n",
      "('http://data.odeuropa.eu/vocabulary/olfactory-objects/4', 0.8615341782569885) Jewelry\n",
      "('http://data.odeuropa.eu/vocabulary/olfactory-objects/473', 0.8541541695594788) Ring\n",
      "('http://data.odeuropa.eu/vocabulary/olfactory-objects/20', 0.85298752784729) Bracelet vinaigrette\n",
      "('http://data.odeuropa.eu/vocabulary/olfactory-objects/455', 0.851535439491272) Wine Bottle\n",
      "('http://data.odeuropa.eu/vocabulary/olfactory-objects/179', 0.8503535985946655) Oil lamp\n",
      "%%%%%%%%%%%%%%%\n",
      "('http://data.odeuropa.eu/vocabulary/olfactory-objects/438', 0.8725066184997559) Petunia\n",
      "('http://data.odeuropa.eu/vocabulary/olfactory-objects/569', 0.8723206520080566) Dandelion\n",
      "('http://data.odeuropa.eu/vocabulary/olfactory-objects/440', 0.8696293830871582) Tulip\n",
      "('http://data.odeuropa.eu/vocabulary/olfactory-objects/482', 0.8694753646850586) Dahlia\n",
      "('http://data.odeuropa.eu/vocabulary/olfactory-objects/27', 0.8681899309158325) Carnation\n",
      "%%%%%%%%%%%%%%%\n",
      "('http://data.odeuropa.eu/vocabulary/olfactory-objects/254', 0.8107903003692627) Halitosis\n",
      "('http://data.odeuropa.eu/vocabulary/olfactory-objects/238', 0.8076704144477844) Filth\n",
      "('http://data.odeuropa.eu/vocabulary/olfactory-objects/173', 0.8016457557678223) Sillage\n",
      "('http://data.odeuropa.eu/vocabulary/olfactory-objects/413', 0.7936885952949524) Malodor\n",
      "('http://data.odeuropa.eu/vocabulary/olfactory-objects/393', 0.7823496460914612) Fumigation\n",
      "%%%%%%%%%%%%%%%\n"
     ]
    }
   ],
   "source": [
    "new_centroids = []\n",
    "for i, x in enumerate(centroids):\n",
    "    top = kv.most_similar_cosmul(x, topn=5)\n",
    "    for y in top:\n",
    "        print(y, label(y[0]))\n",
    "\n",
    "    new_centroids.append(top[0][0])\n",
    "    print('%%%%%%%%%%%%%%%')"
   ]
  },
  {
   "cell_type": "code",
   "execution_count": 21,
   "id": "942171cd-7484-4885-8774-4616565aac75",
   "metadata": {},
   "outputs": [
    {
     "data": {
      "text/plain": [
       "(0.9627349826289522, 0.6461523604308032, 0.7732965072768323)"
      ]
     },
     "execution_count": 21,
     "metadata": {},
     "output_type": "execute_result"
    }
   ],
   "source": [
    "classes = [get_top_concept(t) for t in only_obj]\n",
    "\n",
    "priorities = []\n",
    "for clust in set(labels):\n",
    "    ps = np.where(labels==clust)[0]\n",
    "    members = flatten_concatenation([classes[x] for x in ps])\n",
    "    counting = dict(Counter(members))\n",
    "    priority = sorted([id for id in counting.items()],key=lambda a: a[1], reverse= True)\n",
    "    priority = [a[0] for a in priority]\n",
    "    priorities.append(priority)\n",
    "    \n",
    "classes_flat = []\n",
    "for i, x in enumerate(classes):\n",
    "    if len(x) == 1:\n",
    "        classes_flat.append(x[0])\n",
    "    else:\n",
    "        done = False\n",
    "        for p in priorities[labels[i]]:\n",
    "            if p in x:\n",
    "                classes_flat.append(p)\n",
    "                done = True\n",
    "                break\n",
    "        if not done:\n",
    "            print('error')\n",
    "            print(only_obj[i])\n",
    "\n",
    "homogeneity_completeness_v_measure(classes_flat, labels)"
   ]
  },
  {
   "cell_type": "code",
   "execution_count": 22,
   "id": "5f1a290f-c6b4-47de-86a1-faff354e1c2c",
   "metadata": {},
   "outputs": [],
   "source": [
    "# Same with TransE\n",
    "kv = KeyedVectors.load_word2vec_format(path.join(root, 'transe_entity.bin'), binary=True)\n",
    "only_obj= [l for l in kv.key_to_index.keys() if l.startswith('http://data.odeuropa.eu/vocabulary/olfactory-objects')]\n",
    "only_obj = [l for l in only_obj if l not in CATS]\n",
    "X = kv[only_obj]"
   ]
  },
  {
   "cell_type": "code",
   "execution_count": 23,
   "id": "f5d9fbd3-84e0-4e01-ae1d-cf931191c421",
   "metadata": {},
   "outputs": [
    {
     "name": "stderr",
     "output_type": "stream",
     "text": [
      "/opt/homebrew/anaconda3/envs/odeuropa/lib/python3.10/site-packages/sklearn/cluster/_kmeans.py:1416: FutureWarning: The default value of `n_init` will change from 10 to 'auto' in 1.4. Set the value of `n_init` explicitly to suppress the warning\n",
      "  super()._check_params_vs_input(X, default_n_init=10)\n"
     ]
    },
    {
     "name": "stdout",
     "output_type": "stream",
     "text": [
      "Cluster id labels for inputted data\n",
      "[ 1 18 13 10 10  5 14  7  4 12  3  2  1 11  4 11 13 18  1 18  4  1  4 10\n",
      "  1 18 15  1  1  1 12  4  1 18 10 13 18  1 18 18 16  1  1 14  8 10  4 15\n",
      "  4  4  4 12 10 16 18  1 17 14 15  2 10 13  9 17 15  4 13  9 12 17 14 18\n",
      " 17  2 12  2 12  2  2 14  8 14  3 18  8  2  2 17  4  7  2 17  9  9  9 17\n",
      " 11  9 10 10  1 10 10 10 10 10 10  1 13 16 16 17  4  2  8  8 13 13 13  2\n",
      " 13 19 14  9 14  5  9 11 11  9  2 13  8  7  9 13 14 19 14  8  8 14  7 13\n",
      " 16  2 19  5  2 12  8  8 14 14  3  8  8  1 12  5 19 19 16 16 19 19 16  4\n",
      " 14  1 13 13  0 14 17 14 14 13 19  1 16 16 16  4 19 19 13  7 13 14 12  4\n",
      "  4  4  4  5  4  9 17 17 18 17  2  2  2  2 17 17 17  9  0  4 17  0 17 17\n",
      " 17  9 17  9 11 11 18  4  9 17 11 11 17 11 11 17 11 11  1 11 11 17 11 11\n",
      " 11 11 11 11 17  2  9  9  9  9 11  2  9  9  9 14 19  9  9 11 11 13 17 11\n",
      "  2  2 17 15 11 11  9 10 11 13  9 11  9 11 17 14  8  5  8  8 14 14  8  8\n",
      "  6 11  6  8  8  9 17 11  2 12 12 12 13  2 12 14 15 15 12 12  3  8 16  4\n",
      " 16 16 16 16  7 17  9 10  6 14  2  8 14 12  3 11  9 14 10 10 13  1  4 13\n",
      " 13 14  2  2 11 11  8  8  8  4  2  9 15  3  8  8 18  2 12  6  4 19  7  8\n",
      "  9 19  5 19 11 10  7  4 19  5 12  1 14  8  7 14 14 14 13 14  2 17 17 17\n",
      " 17 11 11 15 15 10 15 15 15 15 15 15 15  4 15 10 16 10 10 10 10 10 10 17\n",
      " 10  3 10  2 10 10  4  1  1  2 14 10 10 10 13 10 15 14 17 17 11 14 14 10\n",
      " 10  1 10 10 18  4 11 11  1 14 17 10 10  2 10 10 10 10 10  4 10 11 10 10\n",
      "  1 10 11 10 10 10 10 10  1 10  4  4 17 17 15  8 10 10  3  8  8  7  4  5\n",
      "  2  8 12  2  2 13  2 12 10  4 10 10 10  8 11 14  4  1  4 15 10  8  2  8\n",
      " 12 15 10 12  2 13 16 10  8  4 19  3  3 12  4 14  5 14 18 14 10 15 14 15\n",
      " 14 15  3 10 13 13  1 13  7  2  1 15 13 19  4  5  1 12  1 13 14  7  8 17\n",
      " 12  4  2  5 18  1  5 14 18  1  1  1  8  2  1 16  1 14  7  4  4  4  4  4\n",
      " 12  4]\n",
      "Score (Opposite of the value of X on the K-means objective which is Sum of distances of samples to their closest cluster center):\n",
      "-375.60784912109375\n",
      "Silhouette_score: \n",
      "0.031113304\n"
     ]
    }
   ],
   "source": [
    "kmeans = cluster.KMeans(n_clusters=n_clusters)\n",
    "kmeans.fit(X)\n",
    " \n",
    "labels = kmeans.labels_\n",
    "centroids = kmeans.cluster_centers_\n",
    " \n",
    "print (\"Cluster id labels for inputted data\")\n",
    "print (labels)\n",
    "# print (\"Centroids data\")\n",
    "# print (centroids)\n",
    " \n",
    "print (\"Score (Opposite of the value of X on the K-means objective which is Sum of distances of samples to their closest cluster center):\")\n",
    "print (kmeans.score(X))\n",
    " \n",
    "silhouette_score = metrics.silhouette_score(X, labels, metric='euclidean')\n",
    " \n",
    "print (\"Silhouette_score: \")\n",
    "print (silhouette_score)"
   ]
  },
  {
   "cell_type": "code",
   "execution_count": 24,
   "id": "21755dea-f308-4249-8e22-d87a6d674761",
   "metadata": {},
   "outputs": [
    {
     "name": "stdout",
     "output_type": "stream",
     "text": [
      "('http://data.odeuropa.eu/vocabulary/olfactory-objects/289', 0.7604581117630005) Pineapple\n",
      "('http://data.odeuropa.eu/vocabulary/olfactory-objects/291', 0.7325263023376465) Watermelon\n",
      "('http://data.odeuropa.eu/vocabulary/olfactory-objects/254', 0.7013605237007141) Halitosis\n",
      "('http://data.odeuropa.eu/vocabulary/olfactory-objects/295', 0.6535303592681885) Peanut\n",
      "('http://data.odeuropa.eu/vocabulary/olfactory-objects/511', 0.6521593332290649) Apricot\n",
      "%%%%%%%%%%%%%%%\n",
      "('http://data.odeuropa.eu/vocabulary/olfactory-objects/51', 0.737899661064148) Head cone\n",
      "('http://data.odeuropa.eu/vocabulary/olfactory-objects/125', 0.7374388575553894) Pomander\n",
      "('http://data.odeuropa.eu/vocabulary/olfactory-objects/240', 0.7329413294792175) Chamber pot\n",
      "('http://data.odeuropa.eu/vocabulary/olfactory-objects/120', 0.7304530739784241) Perfume flacon\n",
      "('http://data.odeuropa.eu/vocabulary/olfactory-objects/97', 0.725816011428833) Lodereindoos\n",
      "%%%%%%%%%%%%%%%\n",
      "('http://data.odeuropa.eu/vocabulary/olfactory-objects/109', 0.6946814060211182) Oil\n",
      "('http://data.odeuropa.eu/vocabulary/olfactory-objects/50', 0.6934276819229126) Coffee\n",
      "('http://data.odeuropa.eu/vocabulary/olfactory-objects/281', 0.6779735684394836) Blueberry\n",
      "('http://data.odeuropa.eu/vocabulary/olfactory-objects/177', 0.6713443398475647) Spice\n",
      "('http://data.odeuropa.eu/vocabulary/olfactory-objects/403', 0.6710099577903748) Vegetable\n",
      "%%%%%%%%%%%%%%%\n",
      "('http://data.odeuropa.eu/vocabulary/olfactory-objects/413', 0.6966176629066467) Malodor\n",
      "('http://data.odeuropa.eu/vocabulary/olfactory-objects/108', 0.6940044164657593) Odor of sanctity\n",
      "('http://data.odeuropa.eu/vocabulary/olfactory-objects/393', 0.6895304918289185) Fumigation\n",
      "('http://data.odeuropa.eu/vocabulary/olfactory-objects/563', 0.6826265454292297) Abstract\n",
      "('http://data.odeuropa.eu/vocabulary/olfactory-objects/377', 0.6787504553794861) Pollution\n",
      "%%%%%%%%%%%%%%%\n",
      "('http://data.odeuropa.eu/vocabulary/olfactory-objects/97', 0.7231277227401733) Lodereindoos\n",
      "('http://data.odeuropa.eu/vocabulary/olfactory-objects/94', 0.7155209183692932) Leather Tapestry\n",
      "('http://data.odeuropa.eu/vocabulary/olfactory-objects/40', 0.713928759098053) Cigar-box\n",
      "('http://data.odeuropa.eu/vocabulary/olfactory-objects/53', 0.7133844494819641) Diaper\n",
      "('http://data.odeuropa.eu/vocabulary/olfactory-objects/117', 0.7103751301765442) Perfume box\n",
      "%%%%%%%%%%%%%%%\n",
      "('http://data.odeuropa.eu/vocabulary/olfactory-objects/530', 0.7085440754890442) Snuff\n",
      "('http://data.odeuropa.eu/vocabulary/olfactory-objects/103', 0.7069785594940186) Myrrh\n",
      "('http://data.odeuropa.eu/vocabulary/olfactory-objects/242', 0.7059585452079773) Sulphur\n",
      "('http://data.odeuropa.eu/vocabulary/olfactory-objects/81', 0.7053026556968689) Grass\n",
      "('http://data.odeuropa.eu/vocabulary/olfactory-objects/352', 0.7013349533081055) Blackcurrant leaf\n",
      "%%%%%%%%%%%%%%%\n",
      "('http://data.odeuropa.eu/vocabulary/olfactory-objects/388', 0.7958127856254578) Sassafras\n",
      "('http://data.odeuropa.eu/vocabulary/olfactory-objects/360', 0.7894284129142761) Cedar (Lebanon)\n",
      "('http://data.odeuropa.eu/vocabulary/olfactory-objects/359', 0.7867866158485413) Cedar (Virginia)\n",
      "('http://data.odeuropa.eu/vocabulary/olfactory-objects/419', 0.7534286379814148) Stapelia\n",
      "('http://data.odeuropa.eu/vocabulary/olfactory-objects/239', 0.7215848565101624) Acacia farnesiana\n",
      "%%%%%%%%%%%%%%%\n",
      "('http://data.odeuropa.eu/vocabulary/olfactory-objects/529', 0.7015888094902039) Rosehip\n",
      "('http://data.odeuropa.eu/vocabulary/olfactory-objects/61', 0.6807863712310791) Elm tree\n",
      "('http://data.odeuropa.eu/vocabulary/olfactory-objects/384', 0.6797623038291931) Passion flower\n",
      "('http://data.odeuropa.eu/vocabulary/olfactory-objects/552', 0.6797088980674744) Heliotropium\n",
      "('http://data.odeuropa.eu/vocabulary/olfactory-objects/528', 0.6786096692085266) Quince\n",
      "%%%%%%%%%%%%%%%\n",
      "('http://data.odeuropa.eu/vocabulary/olfactory-objects/353', 0.7043397426605225) Elderflower\n",
      "('http://data.odeuropa.eu/vocabulary/olfactory-objects/354', 0.6989576816558838) Rapeseed\n",
      "('http://data.odeuropa.eu/vocabulary/olfactory-objects/528', 0.6989369988441467) Quince\n",
      "('http://data.odeuropa.eu/vocabulary/olfactory-objects/239', 0.6986691355705261) Acacia farnesiana\n",
      "('http://data.odeuropa.eu/vocabulary/olfactory-objects/482', 0.696704626083374) Dahlia\n",
      "%%%%%%%%%%%%%%%\n",
      "('http://data.odeuropa.eu/vocabulary/olfactory-objects/155', 0.7220725417137146) Spirit (alcohol)\n",
      "('http://data.odeuropa.eu/vocabulary/olfactory-objects/297', 0.7196892499923706) Carrot\n",
      "('http://data.odeuropa.eu/vocabulary/olfactory-objects/277', 0.7101723551750183) Grapefruit\n",
      "('http://data.odeuropa.eu/vocabulary/olfactory-objects/346', 0.7097668647766113) Broth\n",
      "('http://data.odeuropa.eu/vocabulary/olfactory-objects/386', 0.7084570527076721) Schalg\n",
      "%%%%%%%%%%%%%%%\n",
      "('http://data.odeuropa.eu/vocabulary/olfactory-objects/513', 0.7385572195053101) Wolf\n",
      "('http://data.odeuropa.eu/vocabulary/olfactory-objects/14', 0.7323170304298401) Beaver\n",
      "('http://data.odeuropa.eu/vocabulary/olfactory-objects/502', 0.7258458733558655) Lion\n",
      "('http://data.odeuropa.eu/vocabulary/olfactory-objects/191', 0.7239435911178589) Bull\n",
      "('http://data.odeuropa.eu/vocabulary/olfactory-objects/540', 0.7213295102119446) Man\n",
      "%%%%%%%%%%%%%%%\n",
      "('http://data.odeuropa.eu/vocabulary/olfactory-objects/299', 0.7097864747047424) Pea\n",
      "('http://data.odeuropa.eu/vocabulary/olfactory-objects/485', 0.7082108855247498) Radish\n",
      "('http://data.odeuropa.eu/vocabulary/olfactory-objects/297', 0.6970717310905457) Carrot\n",
      "('http://data.odeuropa.eu/vocabulary/olfactory-objects/316', 0.6950231790542603) Cress\n",
      "('http://data.odeuropa.eu/vocabulary/olfactory-objects/307', 0.6910019516944885) Spring onion\n",
      "%%%%%%%%%%%%%%%\n",
      "('http://data.odeuropa.eu/vocabulary/olfactory-objects/533', 0.7098841071128845) Body\n",
      "('http://data.odeuropa.eu/vocabulary/olfactory-objects/160', 0.6990317106246948) Tallow\n",
      "('http://data.odeuropa.eu/vocabulary/olfactory-objects/371', 0.6956873536109924) Liquid manure\n",
      "('http://data.odeuropa.eu/vocabulary/olfactory-objects/375', 0.6955680251121521) Whale oil\n",
      "('http://data.odeuropa.eu/vocabulary/olfactory-objects/432', 0.6802505254745483) Ambergris\n",
      "%%%%%%%%%%%%%%%\n",
      "('http://data.odeuropa.eu/vocabulary/olfactory-objects/400', 0.7146943211555481) Florida Water\n",
      "('http://data.odeuropa.eu/vocabulary/olfactory-objects/58', 0.7135013937950134) Eau de cologne\n",
      "('http://data.odeuropa.eu/vocabulary/olfactory-objects/71', 0.7126981616020203) Floral water\n",
      "('http://data.odeuropa.eu/vocabulary/olfactory-objects/253', 0.7124804854393005) Fougère\n",
      "('http://data.odeuropa.eu/vocabulary/olfactory-objects/252', 0.7098096609115601) Boldoot\n",
      "%%%%%%%%%%%%%%%\n",
      "('http://data.odeuropa.eu/vocabulary/olfactory-objects/482', 0.7306457161903381) Dahlia\n",
      "('http://data.odeuropa.eu/vocabulary/olfactory-objects/350', 0.7222326993942261) Geranium\n",
      "('http://data.odeuropa.eu/vocabulary/olfactory-objects/372', 0.7203600406646729) Furze\n",
      "('http://data.odeuropa.eu/vocabulary/olfactory-objects/91', 0.7157477736473083) Columbine\n",
      "('http://data.odeuropa.eu/vocabulary/olfactory-objects/104', 0.7110089659690857) Anemone\n",
      "%%%%%%%%%%%%%%%\n",
      "('http://data.odeuropa.eu/vocabulary/olfactory-objects/448', 0.7304766178131104) Vessel\n",
      "('http://data.odeuropa.eu/vocabulary/olfactory-objects/449', 0.7190404534339905) Drinking glass\n",
      "('http://data.odeuropa.eu/vocabulary/olfactory-objects/458', 0.7161652445793152) Teapot\n",
      "('http://data.odeuropa.eu/vocabulary/olfactory-objects/412', 0.7132419347763062) Bottle\n",
      "('http://data.odeuropa.eu/vocabulary/olfactory-objects/574', 0.7071179747581482) Pot\n",
      "%%%%%%%%%%%%%%%\n",
      "('http://data.odeuropa.eu/vocabulary/olfactory-objects/559', 0.6822421550750732) Nature\n",
      "('http://data.odeuropa.eu/vocabulary/olfactory-objects/249', 0.6787093281745911) Peat\n",
      "('http://data.odeuropa.eu/vocabulary/olfactory-objects/245', 0.6769916415214539) Wet earth\n",
      "('http://data.odeuropa.eu/vocabulary/olfactory-objects/379', 0.6673378348350525) Wind\n",
      "('http://data.odeuropa.eu/vocabulary/olfactory-objects/199', 0.6620734333992004) Lake\n",
      "%%%%%%%%%%%%%%%\n",
      "('http://data.odeuropa.eu/vocabulary/olfactory-objects/444', 0.7112923264503479) Fig\n",
      "('http://data.odeuropa.eu/vocabulary/olfactory-objects/307', 0.7091944217681885) Spring onion\n",
      "('http://data.odeuropa.eu/vocabulary/olfactory-objects/286', 0.7081250548362732) Plum\n",
      "('http://data.odeuropa.eu/vocabulary/olfactory-objects/285', 0.7062963247299194) Peach\n",
      "('http://data.odeuropa.eu/vocabulary/olfactory-objects/292', 0.7049255967140198) Coconut\n",
      "%%%%%%%%%%%%%%%\n",
      "('http://data.odeuropa.eu/vocabulary/olfactory-objects/133', 0.7230106592178345) Powdered Wig\n",
      "('http://data.odeuropa.eu/vocabulary/olfactory-objects/492', 0.7192883491516113) Necklace\n",
      "('http://data.odeuropa.eu/vocabulary/olfactory-objects/163', 0.7076851725578308) Vial\n",
      "('http://data.odeuropa.eu/vocabulary/olfactory-objects/148', 0.698210597038269) Smelling Bottle\n",
      "('http://data.odeuropa.eu/vocabulary/olfactory-objects/97', 0.696234405040741) Lodereindoos\n",
      "%%%%%%%%%%%%%%%\n",
      "('http://data.odeuropa.eu/vocabulary/olfactory-objects/248', 0.7177227139472961) Carbolic acid\n",
      "('http://data.odeuropa.eu/vocabulary/olfactory-objects/420', 0.7078490257263184) Aceltene\n",
      "('http://data.odeuropa.eu/vocabulary/olfactory-objects/33', 0.6987023949623108) Chemical Element\n",
      "('http://data.odeuropa.eu/vocabulary/olfactory-objects/562', 0.6965072154998779) Element\n",
      "('http://data.odeuropa.eu/vocabulary/olfactory-objects/265', 0.691260576248169) Iso-butyl-quinoline\n",
      "%%%%%%%%%%%%%%%\n"
     ]
    }
   ],
   "source": [
    "new_centroids = []\n",
    "for i, x in enumerate(centroids):\n",
    "    top = kv.most_similar_cosmul(x, topn=5)\n",
    "    for y in top:\n",
    "        print(y, label(y[0]))\n",
    "\n",
    "    new_centroids.append(top[0][0])\n",
    "    print('%%%%%%%%%%%%%%%')"
   ]
  },
  {
   "cell_type": "code",
   "execution_count": 25,
   "id": "f86c8a0b-d034-4e00-8781-14658730adba",
   "metadata": {},
   "outputs": [
    {
     "data": {
      "text/plain": [
       "(0.861964398359632, 0.5880959092467961, 0.69916779865305)"
      ]
     },
     "execution_count": 25,
     "metadata": {},
     "output_type": "execute_result"
    }
   ],
   "source": [
    "classes = [get_top_concept(t) for t in only_obj]\n",
    "\n",
    "priorities = []\n",
    "for clust in set(labels):\n",
    "    ps = np.where(labels==clust)[0]\n",
    "    members = flatten_concatenation([classes[x] for x in ps])\n",
    "    counting = dict(Counter(members))\n",
    "    priority = sorted([id for id in counting.items()],key=lambda a: a[1], reverse= True)\n",
    "    priority = [a[0] for a in priority]\n",
    "    priorities.append(priority)\n",
    "    \n",
    "classes_flat = []\n",
    "for i, x in enumerate(classes):\n",
    "    if len(x) == 1:\n",
    "        classes_flat.append(x[0])\n",
    "    else:\n",
    "        done = False\n",
    "        for p in priorities[labels[i]]:\n",
    "            if p in x:\n",
    "                classes_flat.append(p)\n",
    "                done = True\n",
    "                break\n",
    "        if not done:\n",
    "            print('error')\n",
    "\n",
    "homogeneity_completeness_v_measure(classes_flat, labels)"
   ]
  },
  {
   "cell_type": "code",
   "execution_count": 26,
   "id": "d7b66a26-4a85-459a-aae8-05672a1a7b2f",
   "metadata": {},
   "outputs": [
    {
     "name": "stderr",
     "output_type": "stream",
     "text": [
      "/var/folders/1p/7266x_bx2bv6hyhd2_k8nt8m0000gn/T/ipykernel_90902/3932829861.py:1: DtypeWarning: Columns (2,3,4,5,7) have mixed types. Specify dtype option on import or set low_memory=False.\n",
      "  all_data = pd.read_csv('all_props.csv', sep=',', index_col=0)\n"
     ]
    },
    {
     "data": {
      "text/html": [
       "<div>\n",
       "<style scoped>\n",
       "    .dataframe tbody tr th:only-of-type {\n",
       "        vertical-align: middle;\n",
       "    }\n",
       "\n",
       "    .dataframe tbody tr th {\n",
       "        vertical-align: top;\n",
       "    }\n",
       "\n",
       "    .dataframe thead th {\n",
       "        text-align: right;\n",
       "    }\n",
       "</style>\n",
       "<table border=\"1\" class=\"dataframe\">\n",
       "  <thead>\n",
       "    <tr style=\"text-align: right;\">\n",
       "      <th></th>\n",
       "      <th>smell</th>\n",
       "      <th>od_F6_evoked%20%2F%20ecrm_P137_exemplifies</th>\n",
       "      <th>od_F5_involved_gesture%20%2F%20ecrm_P137_exemplifies</th>\n",
       "      <th>od_F4_had_carrier%20%2F%20ecrm_P137_exemplifies</th>\n",
       "      <th>%5Eecrm_P140_assigned_attribute_to%20%2F%20ecrm_P141_assigned</th>\n",
       "      <th>od_F3_had_source%20%2F%20ecrm_P137_exemplifies</th>\n",
       "      <th>ecrm_P7_took_place_at%20%2F%20ecrm_P137_exemplifies</th>\n",
       "    </tr>\n",
       "  </thead>\n",
       "  <tbody>\n",
       "    <tr>\n",
       "      <th>0</th>\n",
       "      <td>http://data.odeuropa.eu/experience/5a4850db-7f...</td>\n",
       "      <td>http://data.odeuropa.eu/vocabulary/olfactory-o...</td>\n",
       "      <td>NaN</td>\n",
       "      <td>NaN</td>\n",
       "      <td>NaN</td>\n",
       "      <td>NaN</td>\n",
       "      <td>NaN</td>\n",
       "    </tr>\n",
       "    <tr>\n",
       "      <th>1</th>\n",
       "      <td>http://data.odeuropa.eu/experience/ad644f44-d1...</td>\n",
       "      <td>http://data.odeuropa.eu/vocabulary/olfactory-o...</td>\n",
       "      <td>NaN</td>\n",
       "      <td>NaN</td>\n",
       "      <td>NaN</td>\n",
       "      <td>NaN</td>\n",
       "      <td>NaN</td>\n",
       "    </tr>\n",
       "    <tr>\n",
       "      <th>2</th>\n",
       "      <td>http://data.odeuropa.eu/experience/21b16c3c-d3...</td>\n",
       "      <td>http://data.odeuropa.eu/vocabulary/olfactory-o...</td>\n",
       "      <td>NaN</td>\n",
       "      <td>NaN</td>\n",
       "      <td>NaN</td>\n",
       "      <td>NaN</td>\n",
       "      <td>NaN</td>\n",
       "    </tr>\n",
       "    <tr>\n",
       "      <th>3</th>\n",
       "      <td>http://data.odeuropa.eu/experience/28ab7efb-2d...</td>\n",
       "      <td>http://data.odeuropa.eu/vocabulary/olfactory-o...</td>\n",
       "      <td>NaN</td>\n",
       "      <td>NaN</td>\n",
       "      <td>NaN</td>\n",
       "      <td>NaN</td>\n",
       "      <td>NaN</td>\n",
       "    </tr>\n",
       "    <tr>\n",
       "      <th>4</th>\n",
       "      <td>http://data.odeuropa.eu/experience/3ab179a4-f0...</td>\n",
       "      <td>http://data.odeuropa.eu/vocabulary/fragrant-sp...</td>\n",
       "      <td>NaN</td>\n",
       "      <td>NaN</td>\n",
       "      <td>NaN</td>\n",
       "      <td>NaN</td>\n",
       "      <td>NaN</td>\n",
       "    </tr>\n",
       "    <tr>\n",
       "      <th>...</th>\n",
       "      <td>...</td>\n",
       "      <td>...</td>\n",
       "      <td>...</td>\n",
       "      <td>...</td>\n",
       "      <td>...</td>\n",
       "      <td>...</td>\n",
       "      <td>...</td>\n",
       "    </tr>\n",
       "    <tr>\n",
       "      <th>1173906</th>\n",
       "      <td>http://data.odeuropa.eu/smell/13df9c06-507c-55...</td>\n",
       "      <td>NaN</td>\n",
       "      <td>NaN</td>\n",
       "      <td>NaN</td>\n",
       "      <td>NaN</td>\n",
       "      <td>NaN</td>\n",
       "      <td>http://data.odeuropa.eu/vocabulary/fragrant-sp...</td>\n",
       "    </tr>\n",
       "    <tr>\n",
       "      <th>1173907</th>\n",
       "      <td>http://data.odeuropa.eu/experience/a2102894-d6...</td>\n",
       "      <td>NaN</td>\n",
       "      <td>NaN</td>\n",
       "      <td>NaN</td>\n",
       "      <td>NaN</td>\n",
       "      <td>NaN</td>\n",
       "      <td>http://data.odeuropa.eu/vocabulary/fragrant-sp...</td>\n",
       "    </tr>\n",
       "    <tr>\n",
       "      <th>1173908</th>\n",
       "      <td>http://data.odeuropa.eu/experience/d406b1d8-eb...</td>\n",
       "      <td>NaN</td>\n",
       "      <td>NaN</td>\n",
       "      <td>NaN</td>\n",
       "      <td>NaN</td>\n",
       "      <td>NaN</td>\n",
       "      <td>http://data.odeuropa.eu/vocabulary/fragrant-sp...</td>\n",
       "    </tr>\n",
       "    <tr>\n",
       "      <th>1173909</th>\n",
       "      <td>http://data.odeuropa.eu/smell/e4f25cb1-1f09-58...</td>\n",
       "      <td>NaN</td>\n",
       "      <td>NaN</td>\n",
       "      <td>NaN</td>\n",
       "      <td>NaN</td>\n",
       "      <td>NaN</td>\n",
       "      <td>http://data.odeuropa.eu/vocabulary/fragrant-sp...</td>\n",
       "    </tr>\n",
       "    <tr>\n",
       "      <th>1173910</th>\n",
       "      <td>http://data.odeuropa.eu/experience/6aa85c0f-fd...</td>\n",
       "      <td>NaN</td>\n",
       "      <td>NaN</td>\n",
       "      <td>NaN</td>\n",
       "      <td>NaN</td>\n",
       "      <td>NaN</td>\n",
       "      <td>http://data.odeuropa.eu/vocabulary/fragrant-sp...</td>\n",
       "    </tr>\n",
       "  </tbody>\n",
       "</table>\n",
       "<p>1173911 rows × 7 columns</p>\n",
       "</div>"
      ],
      "text/plain": [
       "                                                     smell  \\\n",
       "0        http://data.odeuropa.eu/experience/5a4850db-7f...   \n",
       "1        http://data.odeuropa.eu/experience/ad644f44-d1...   \n",
       "2        http://data.odeuropa.eu/experience/21b16c3c-d3...   \n",
       "3        http://data.odeuropa.eu/experience/28ab7efb-2d...   \n",
       "4        http://data.odeuropa.eu/experience/3ab179a4-f0...   \n",
       "...                                                    ...   \n",
       "1173906  http://data.odeuropa.eu/smell/13df9c06-507c-55...   \n",
       "1173907  http://data.odeuropa.eu/experience/a2102894-d6...   \n",
       "1173908  http://data.odeuropa.eu/experience/d406b1d8-eb...   \n",
       "1173909  http://data.odeuropa.eu/smell/e4f25cb1-1f09-58...   \n",
       "1173910  http://data.odeuropa.eu/experience/6aa85c0f-fd...   \n",
       "\n",
       "                od_F6_evoked%20%2F%20ecrm_P137_exemplifies  \\\n",
       "0        http://data.odeuropa.eu/vocabulary/olfactory-o...   \n",
       "1        http://data.odeuropa.eu/vocabulary/olfactory-o...   \n",
       "2        http://data.odeuropa.eu/vocabulary/olfactory-o...   \n",
       "3        http://data.odeuropa.eu/vocabulary/olfactory-o...   \n",
       "4        http://data.odeuropa.eu/vocabulary/fragrant-sp...   \n",
       "...                                                    ...   \n",
       "1173906                                                NaN   \n",
       "1173907                                                NaN   \n",
       "1173908                                                NaN   \n",
       "1173909                                                NaN   \n",
       "1173910                                                NaN   \n",
       "\n",
       "        od_F5_involved_gesture%20%2F%20ecrm_P137_exemplifies  \\\n",
       "0                                                      NaN     \n",
       "1                                                      NaN     \n",
       "2                                                      NaN     \n",
       "3                                                      NaN     \n",
       "4                                                      NaN     \n",
       "...                                                    ...     \n",
       "1173906                                                NaN     \n",
       "1173907                                                NaN     \n",
       "1173908                                                NaN     \n",
       "1173909                                                NaN     \n",
       "1173910                                                NaN     \n",
       "\n",
       "        od_F4_had_carrier%20%2F%20ecrm_P137_exemplifies  \\\n",
       "0                                                   NaN   \n",
       "1                                                   NaN   \n",
       "2                                                   NaN   \n",
       "3                                                   NaN   \n",
       "4                                                   NaN   \n",
       "...                                                 ...   \n",
       "1173906                                             NaN   \n",
       "1173907                                             NaN   \n",
       "1173908                                             NaN   \n",
       "1173909                                             NaN   \n",
       "1173910                                             NaN   \n",
       "\n",
       "        %5Eecrm_P140_assigned_attribute_to%20%2F%20ecrm_P141_assigned  \\\n",
       "0                                                      NaN              \n",
       "1                                                      NaN              \n",
       "2                                                      NaN              \n",
       "3                                                      NaN              \n",
       "4                                                      NaN              \n",
       "...                                                    ...              \n",
       "1173906                                                NaN              \n",
       "1173907                                                NaN              \n",
       "1173908                                                NaN              \n",
       "1173909                                                NaN              \n",
       "1173910                                                NaN              \n",
       "\n",
       "        od_F3_had_source%20%2F%20ecrm_P137_exemplifies  \\\n",
       "0                                                  NaN   \n",
       "1                                                  NaN   \n",
       "2                                                  NaN   \n",
       "3                                                  NaN   \n",
       "4                                                  NaN   \n",
       "...                                                ...   \n",
       "1173906                                            NaN   \n",
       "1173907                                            NaN   \n",
       "1173908                                            NaN   \n",
       "1173909                                            NaN   \n",
       "1173910                                            NaN   \n",
       "\n",
       "        ecrm_P7_took_place_at%20%2F%20ecrm_P137_exemplifies  \n",
       "0                                                      NaN   \n",
       "1                                                      NaN   \n",
       "2                                                      NaN   \n",
       "3                                                      NaN   \n",
       "4                                                      NaN   \n",
       "...                                                    ...   \n",
       "1173906  http://data.odeuropa.eu/vocabulary/fragrant-sp...   \n",
       "1173907  http://data.odeuropa.eu/vocabulary/fragrant-sp...   \n",
       "1173908  http://data.odeuropa.eu/vocabulary/fragrant-sp...   \n",
       "1173909  http://data.odeuropa.eu/vocabulary/fragrant-sp...   \n",
       "1173910  http://data.odeuropa.eu/vocabulary/fragrant-sp...   \n",
       "\n",
       "[1173911 rows x 7 columns]"
      ]
     },
     "execution_count": 26,
     "metadata": {},
     "output_type": "execute_result"
    }
   ],
   "source": [
    "all_data = pd.read_csv('all_props.csv', sep=',', index_col=0)\n",
    "SOURCE = 'od_F3_had_source%20%2F%20ecrm_P137_exemplifies'\n",
    "all_data"
   ]
  },
  {
   "cell_type": "code",
   "execution_count": 27,
   "id": "d3cb994f-17ef-457a-94e1-4620c6928bb1",
   "metadata": {},
   "outputs": [
    {
     "data": {
      "text/plain": [
       "116719"
      ]
     },
     "execution_count": 27,
     "metadata": {},
     "output_type": "execute_result"
    }
   ],
   "source": [
    "filtered_all_data = all_data[all_data[SOURCE].notna()]\n",
    "only_smells= [l for l in smell_emb.key_to_index.keys()] # if l.startswith('http://data.odeuropa.eu/vocabulary/olfactory-objects')]\n",
    "onl_obj = set(only_smells).intersection(set(filtered_all_data['smell']))\n",
    "\n",
    "X = smell_emb[onl_obj]\n",
    "\n",
    "len(onl_obj)"
   ]
  },
  {
   "cell_type": "code",
   "execution_count": 66,
   "id": "a731ddb3-5993-48df-8d98-9d48a7df79f2",
   "metadata": {},
   "outputs": [
    {
     "data": {
      "application/vnd.jupyter.widget-view+json": {
       "model_id": "0ffe34026763401e85af6cf5503ec735",
       "version_major": 2,
       "version_minor": 0
      },
      "text/plain": [
       "  0%|          | 0/663054 [00:00<?, ?it/s]"
      ]
     },
     "metadata": {},
     "output_type": "display_data"
    }
   ],
   "source": [
    "from tqdm.notebook import tqdm\n",
    "\n",
    "all_classes = {}\n",
    "for i, x in tqdm(filtered_all_data.iterrows(), total=len(filtered_all_data)):\n",
    "    sm = x['smell']\n",
    "    source = x[SOURCE]\n",
    "    if sm not in all_classes:\n",
    "        all_classes[sm] = []\n",
    "    all_classes[sm].append(source)"
   ]
  },
  {
   "cell_type": "code",
   "execution_count": 67,
   "id": "21bd0020-b112-4599-ab1d-d081fcda9c8c",
   "metadata": {},
   "outputs": [
    {
     "data": {
      "application/vnd.jupyter.widget-view+json": {
       "model_id": "9ed13c296bbb4eedbbd455dab2f4d5ca",
       "version_major": 2,
       "version_minor": 0
      },
      "text/plain": [
       "  0%|          | 0/1926 [00:00<?, ?it/s]"
      ]
     },
     "metadata": {},
     "output_type": "display_data"
    },
    {
     "data": {
      "application/vnd.jupyter.widget-view+json": {
       "model_id": "8393aa70f4614e7eb74cfb26e9faca8c",
       "version_major": 2,
       "version_minor": 0
      },
      "text/plain": [
       "  0%|          | 0/1926 [00:00<?, ?it/s]"
      ]
     },
     "metadata": {},
     "output_type": "display_data"
    }
   ],
   "source": [
    "classes = [all_classes[t] for t in tqdm(onl_obj)]\n",
    "top_classes = []\n",
    "for c in tqdm(classes):\n",
    "    top_classes.append(flatten_concatenation([get_top_concept(s) for s in c]))"
   ]
  },
  {
   "cell_type": "code",
   "execution_count": 73,
   "id": "ce7c4944-96e0-4d6d-b7e8-02b145024c41",
   "metadata": {},
   "outputs": [],
   "source": [
    "n_clusters=20"
   ]
  },
  {
   "cell_type": "code",
   "execution_count": 74,
   "id": "609656df-1de6-4c96-bf72-59a22ee68cf8",
   "metadata": {},
   "outputs": [
    {
     "name": "stderr",
     "output_type": "stream",
     "text": [
      "/opt/homebrew/anaconda3/envs/odeuropa/lib/python3.10/site-packages/sklearn/cluster/_kmeans.py:1416: FutureWarning: The default value of `n_init` will change from 10 to 'auto' in 1.4. Set the value of `n_init` explicitly to suppress the warning\n",
      "  super()._check_params_vs_input(X, default_n_init=10)\n"
     ]
    },
    {
     "name": "stdout",
     "output_type": "stream",
     "text": [
      "Cluster id labels for inputted data\n",
      "[ 6  8  1 ... 11  9 13]\n",
      "Score (Opposite of the value of X on the K-means objective which is Sum of distances of samples to their closest cluster center):\n",
      "-1549.106201171875\n"
     ]
    }
   ],
   "source": [
    "kmeans = cluster.KMeans(n_clusters=n_clusters)\n",
    "kmeans.fit(X)\n",
    "\n",
    "labels = kmeans.labels_\n",
    "centroids = kmeans.cluster_centers_\n",
    " \n",
    "print (\"Cluster id labels for inputted data\")\n",
    "print (labels)\n",
    "# print (\"Centroids data\")\n",
    "# print (centroids)\n",
    " \n",
    "print (\"Score (Opposite of the value of X on the K-means objective which is Sum of distances of samples to their closest cluster center):\")\n",
    "print (kmeans.score(X))\n",
    " \n",
    "# silhouette_score = metrics.silhouette_score(X, labels, metric='euclidean')\n",
    " \n",
    "# print (\"Silhouette_score: \")\n",
    "# print (silhouette_score)"
   ]
  },
  {
   "cell_type": "code",
   "execution_count": 75,
   "id": "69ec83d9-0777-47c8-9980-f42941cc901d",
   "metadata": {},
   "outputs": [],
   "source": [
    "def get_source(k, single=True):\n",
    "    sources =  all_data[all_data['smell']==k][SOURCE]\n",
    "    if not single:\n",
    "        return sources.tolist()\n",
    "    if len(sources) > 0:\n",
    "        return sources.tolist()[0]\n",
    "    else:\n",
    "        return ''\n",
    "\n",
    "def get_prop(k, p):\n",
    "    sources =  all_data[all_data['smell']==k][p]\n",
    "    if len(sources) > 0:\n",
    "        return sources.tolist()[0]\n",
    "    else:\n",
    "        return ''"
   ]
  },
  {
   "cell_type": "code",
   "execution_count": 76,
   "id": "b43f88e0-8b2c-46b3-bd60-4e4ea37346a3",
   "metadata": {},
   "outputs": [
    {
     "data": {
      "text/plain": [
       "(0.32569487299859645, 0.4962259930118029, 0.3932696405605955)"
      ]
     },
     "execution_count": 76,
     "metadata": {},
     "output_type": "execute_result"
    }
   ],
   "source": [
    "priorities = []\n",
    "for clust in set(labels):\n",
    "    ps = np.where(labels==clust)[0]\n",
    "    members = flatten_concatenation([classes[x] for x in ps])\n",
    "    counting = dict(Counter(members))\n",
    "    priority = sorted([id for id in counting.items()],key=lambda a: a[1], reverse= True)\n",
    "    priority = [a[0] for a in priority]\n",
    "    priorities.append(priority)\n",
    "    \n",
    "classes_flat = []\n",
    "for i, x in enumerate(classes):\n",
    "    if len(x) == 1:\n",
    "        classes_flat.append(x[0])\n",
    "    else:\n",
    "        done = False\n",
    "        for p in priorities[labels[i]]:\n",
    "            if p in x:\n",
    "                classes_flat.append(p)\n",
    "                done = True\n",
    "                break\n",
    "        if not done:\n",
    "            print('error')\n",
    "\n",
    "homogeneity_completeness_v_measure(classes_flat, labels)"
   ]
  },
  {
   "cell_type": "code",
   "execution_count": 34,
   "id": "25b4b606-83df-4911-ab70-0143add7dfa7",
   "metadata": {},
   "outputs": [
    {
     "data": {
      "text/plain": [
       "['http://data.odeuropa.eu/vocabulary/olfactory-objects/227',\n",
       " 'http://data.odeuropa.eu/vocabulary/olfactory-objects/416']"
      ]
     },
     "execution_count": 34,
     "metadata": {},
     "output_type": "execute_result"
    }
   ],
   "source": [
    "classes[126]"
   ]
  },
  {
   "cell_type": "code",
   "execution_count": 35,
   "id": "fc98587f-94fe-48f0-984a-e6ab64914be8",
   "metadata": {},
   "outputs": [
    {
     "data": {
      "text/plain": [
       "(0.7305063921064572, 0.4568834047392312, 0.5621679561269542)"
      ]
     },
     "execution_count": 35,
     "metadata": {},
     "output_type": "execute_result"
    }
   ],
   "source": [
    "priorities = []\n",
    "for clust in set(labels):\n",
    "    ps = np.where(labels==clust)[0]\n",
    "    members = flatten_concatenation([top_classes[x] for x in ps])\n",
    "    counting = dict(Counter(members))\n",
    "    priority = sorted([id for id in counting.items()],key=lambda a: a[1], reverse= True)\n",
    "    priority = [a[0] for a in priority]\n",
    "    priorities.append(priority)\n",
    "    \n",
    "classes_flat = []\n",
    "for i, x in enumerate(top_classes):\n",
    "    if len(x) == 1:\n",
    "        classes_flat.append(x[0])\n",
    "    else:\n",
    "        done = False\n",
    "        \n",
    "        for p in priorities[labels[i]]:\n",
    "            if p in x:\n",
    "                classes_flat.append(p)\n",
    "                done = True\n",
    "                break\n",
    "        if not done:\n",
    "            classes_flat.append('other')\n",
    "\n",
    "homogeneity_completeness_v_measure(classes_flat, labels)"
   ]
  },
  {
   "cell_type": "code",
   "execution_count": null,
   "id": "4b791263-becb-47fc-84a4-642991d24d28",
   "metadata": {},
   "outputs": [],
   "source": []
  },
  {
   "cell_type": "code",
   "execution_count": 36,
   "id": "00bc3ab9-f320-45eb-a935-a71a492306e7",
   "metadata": {},
   "outputs": [],
   "source": [
    "# new_centroids = []\n",
    "# for i, x in enumerate(centroids):\n",
    "    \n",
    "#     print(f'Cluster {i} - {labels.tolist().count(i)} elements ')\n",
    "#     top = smell_emb.most_similar(x, topn=5)\n",
    "#     for y in top:\n",
    "#         print(y, label(y[0]), '|' ,  label(get_source(y[0])))\n",
    "#         print(label(get_prop(y[0], '%5Eecrm_P140_assigned_attribute_to%20%2F%20ecrm_P141_assigned')),\n",
    "#              '|' , label(get_prop(y[0], 'od_F4_had_carrier%20%2F%20ecrm_P137_exemplifies')),\n",
    "#              '|' , label(get_prop(y[0], 'od_F5_involved_gesture%20%2F%20ecrm_P137_exemplifies')))\n",
    "\n",
    "#     new_centroids.append(top[0][0])\n",
    "#     print('%%%%%%%%%%%%%%%')"
   ]
  },
  {
   "cell_type": "code",
   "execution_count": 37,
   "id": "4c01d9da-3d63-48b2-b26d-6ea93fe20a1d",
   "metadata": {},
   "outputs": [],
   "source": [
    "# new_centroids = []\n",
    "# for i, x in enumerate(centroids):\n",
    "    \n",
    "#     print(f'Cluster {i} - {labels.tolist().count(i)} elements ')\n",
    "#     top = smell_emb.most_similar(x, topn=5)\n",
    "#     for y in top:\n",
    "#         print(y, label(y[0]), '|' ,  label(get_source(y[0])))\n",
    "#         print(label(get_prop(y[0], '%5Eecrm_P140_assigned_attribute_to%20%2F%20ecrm_P141_assigned')),\n",
    "#              '|' , label(get_prop(y[0], 'od_F4_had_carrier%20%2F%20ecrm_P137_exemplifies')),\n",
    "#              '|' , label(get_prop(y[0], 'od_F5_involved_gesture%20%2F%20ecrm_P137_exemplifies')))\n",
    "\n",
    "#     new_centroids.append(top[0][0])\n",
    "#     print('%%%%%%%%%%%%%%%')"
   ]
  },
  {
   "cell_type": "code",
   "execution_count": 38,
   "id": "b4e2b2be-5ed3-43ea-911b-36b3a2267605",
   "metadata": {},
   "outputs": [],
   "source": [
    "# %%time\n",
    "\n",
    "# from sklearn.manifold import TSNE\n",
    "\n",
    "# tsne = TSNE(random_state=1, n_iter=1500, metric=\"cosine\")\n",
    "\n",
    "# embs = tsne.fit_transform(X)"
   ]
  },
  {
   "cell_type": "code",
   "execution_count": 39,
   "id": "f1d65186-c5f9-468f-b232-2cf1a68c5700",
   "metadata": {},
   "outputs": [],
   "source": [
    "# import matplotlib.pyplot as plt\n",
    "# import matplotlib.cm as cm\n",
    "# %matplotlib inline\n",
    "\n",
    "\n",
    "# FS = (10, 8)\n",
    "# fig, ax = plt.subplots(figsize=FS)\n",
    "# # Make points translucent so we can visually identify regions with a high density of overlapping points\n",
    "# ax.scatter(embs[:,0], embs[:,1], c=labels, alpha=.1)\n",
    "\n",
    "# for x in new_centroids:\n",
    "#     coords = embs[smell_emb.key_to_index[x]]\n",
    "#     ax.text(coords[0], coords[1], label(get_source(x)))"
   ]
  },
  {
   "cell_type": "code",
   "execution_count": 40,
   "id": "aa2b8451-2e85-4f2d-abfc-90cf0054dd4b",
   "metadata": {},
   "outputs": [],
   "source": [
    "# Same with DistMult \n",
    "kv = KeyedVectors.load_word2vec_format(path.join(root,'distmult_entity.bin'), binary=True)"
   ]
  },
  {
   "cell_type": "code",
   "execution_count": 41,
   "id": "926b64b0-cf88-444c-9456-642c54444aa6",
   "metadata": {},
   "outputs": [
    {
     "data": {
      "text/plain": [
       "10000"
      ]
     },
     "execution_count": 41,
     "metadata": {},
     "output_type": "execute_result"
    }
   ],
   "source": [
    "only_smells = [l for l in kv.key_to_index.keys() if l.startswith('http://data.odeuropa.eu/smell')]\n",
    "len(only_smells)"
   ]
  },
  {
   "cell_type": "code",
   "execution_count": 42,
   "id": "7f0f9b91-e96e-4ff6-a28e-f58430e9c5cd",
   "metadata": {},
   "outputs": [
    {
     "name": "stderr",
     "output_type": "stream",
     "text": [
      "/opt/homebrew/anaconda3/envs/odeuropa/lib/python3.10/site-packages/sklearn/cluster/_kmeans.py:1416: FutureWarning: The default value of `n_init` will change from 10 to 'auto' in 1.4. Set the value of `n_init` explicitly to suppress the warning\n",
      "  super()._check_params_vs_input(X, default_n_init=10)\n"
     ]
    },
    {
     "name": "stdout",
     "output_type": "stream",
     "text": [
      "Cluster id labels for inputted data\n",
      "[15  0 14 ... 14  7  9]\n",
      "Score (Opposite of the value of X on the K-means objective which is Sum of distances of samples to their closest cluster center):\n",
      "-1270.963623046875\n"
     ]
    }
   ],
   "source": [
    "onl_obj = set(only_smells).intersection(set(filtered_all_data['smell']))\n",
    "\n",
    "X = kv[onl_obj]\n",
    "\n",
    "kmeans = cluster.KMeans(n_clusters=n_clusters)\n",
    "kmeans.fit(X)\n",
    "\n",
    "labels = kmeans.labels_\n",
    "centroids = kmeans.cluster_centers_\n",
    " \n",
    "print (\"Cluster id labels for inputted data\")\n",
    "print (labels)\n",
    "# print (\"Centroids data\")\n",
    "# print (centroids)\n",
    " \n",
    "print (\"Score (Opposite of the value of X on the K-means objective which is Sum of distances of samples to their closest cluster center):\")\n",
    "print (kmeans.score(X))\n",
    " \n",
    "# silhouette_score = metrics.silhouette_score(X, labels, metric='euclidean')\n",
    " \n",
    "# print (\"Silhouette_score: \")\n",
    "# print (silhouette_score)"
   ]
  },
  {
   "cell_type": "code",
   "execution_count": 43,
   "id": "f136878b-dbca-45d9-af0a-8b99d277e361",
   "metadata": {},
   "outputs": [
    {
     "data": {
      "application/vnd.jupyter.widget-view+json": {
       "model_id": "ad0f6d863abb46c5952c5e69939096f3",
       "version_major": 2,
       "version_minor": 0
      },
      "text/plain": [
       "  0%|          | 0/1926 [00:00<?, ?it/s]"
      ]
     },
     "metadata": {},
     "output_type": "display_data"
    },
    {
     "data": {
      "application/vnd.jupyter.widget-view+json": {
       "model_id": "ffc8b488013449c0bf956e00296562f6",
       "version_major": 2,
       "version_minor": 0
      },
      "text/plain": [
       "  0%|          | 0/1926 [00:00<?, ?it/s]"
      ]
     },
     "metadata": {},
     "output_type": "display_data"
    }
   ],
   "source": [
    "classes = [all_classes[t] for t in tqdm(onl_obj)]\n",
    "top_classes = []\n",
    "for c in tqdm(classes):\n",
    "    top_classes.append(flatten_concatenation([get_top_concept(s) for s in c]))"
   ]
  },
  {
   "cell_type": "code",
   "execution_count": 44,
   "id": "9876f8b2-cde3-4827-b45e-7b85192c8bd9",
   "metadata": {},
   "outputs": [
    {
     "data": {
      "text/plain": [
       "(0.346701913331363, 0.5351520913510358, 0.4207913169516226)"
      ]
     },
     "execution_count": 44,
     "metadata": {},
     "output_type": "execute_result"
    }
   ],
   "source": [
    "priorities = []\n",
    "for clust in set(labels):\n",
    "    ps = np.where(labels==clust)[0]\n",
    "    members = flatten_concatenation([classes[x] for x in ps])\n",
    "    counting = dict(Counter(members))\n",
    "    priority = sorted([id for id in counting.items()],key=lambda a: a[1], reverse= True)\n",
    "    priority = [a[0] for a in priority]\n",
    "    priorities.append(priority)\n",
    "    \n",
    "classes_flat = []\n",
    "for i, x in enumerate(classes):\n",
    "    if len(x) == 1:\n",
    "        classes_flat.append(x[0])\n",
    "    else:\n",
    "        done = False\n",
    "        for p in priorities[labels[i]]:\n",
    "            if p in x:\n",
    "                classes_flat.append(p)\n",
    "                done = True\n",
    "                break\n",
    "        if not done:\n",
    "            print('error')\n",
    "\n",
    "homogeneity_completeness_v_measure(classes_flat, labels)"
   ]
  },
  {
   "cell_type": "code",
   "execution_count": 45,
   "id": "093e94ae-0b57-4ca3-b44d-54dccae07516",
   "metadata": {
    "scrolled": true
   },
   "outputs": [
    {
     "data": {
      "text/plain": [
       "(0.44252573520294763, 0.2685094257344911, 0.3342235027461087)"
      ]
     },
     "execution_count": 45,
     "metadata": {},
     "output_type": "execute_result"
    }
   ],
   "source": [
    "priorities = []\n",
    "for clust in set(labels):\n",
    "    ps = np.where(labels==clust)[0]\n",
    "    members = flatten_concatenation([top_classes[x] for x in ps])\n",
    "    counting = dict(Counter(members))\n",
    "    priority = sorted([id for id in counting.items()],key=lambda a: a[1], reverse= True)\n",
    "    priority = [a[0] for a in priority]\n",
    "    priorities.append(priority)\n",
    "    \n",
    "classes_flat = []\n",
    "for i, x in enumerate(top_classes):\n",
    "    if len(x) == 1:\n",
    "        classes_flat.append(x[0])\n",
    "    else:\n",
    "        done = False\n",
    "        \n",
    "        for p in priorities[labels[i]]:\n",
    "            if p in x:\n",
    "                classes_flat.append(p)\n",
    "                done = True\n",
    "                break\n",
    "        if not done:\n",
    "            classes_flat.append('other')\n",
    "\n",
    "homogeneity_completeness_v_measure(classes_flat, labels)"
   ]
  },
  {
   "cell_type": "code",
   "execution_count": 46,
   "id": "17791f4e-fd2b-4587-bb4f-27009e866801",
   "metadata": {},
   "outputs": [],
   "source": [
    "# Same with TransE \n",
    "kv = KeyedVectors.load_word2vec_format(path.join(root,'transe_entity.bin'), binary=True)"
   ]
  },
  {
   "cell_type": "code",
   "execution_count": 47,
   "id": "e39a98d7-df10-448c-b1ac-2786f77ef31c",
   "metadata": {},
   "outputs": [],
   "source": [
    "only_smells = [l for l in kv.key_to_index.keys() if l.startswith('http://data.odeuropa.eu/smell')]"
   ]
  },
  {
   "cell_type": "code",
   "execution_count": 48,
   "id": "5f04e076-d592-4f1c-9f2d-a94e3871ef27",
   "metadata": {},
   "outputs": [
    {
     "name": "stderr",
     "output_type": "stream",
     "text": [
      "/opt/homebrew/anaconda3/envs/odeuropa/lib/python3.10/site-packages/sklearn/cluster/_kmeans.py:1416: FutureWarning: The default value of `n_init` will change from 10 to 'auto' in 1.4. Set the value of `n_init` explicitly to suppress the warning\n",
      "  super()._check_params_vs_input(X, default_n_init=10)\n"
     ]
    },
    {
     "name": "stdout",
     "output_type": "stream",
     "text": [
      "Cluster id labels for inputted data\n",
      "[ 7 19 14 ... 18  0 10]\n",
      "Score (Opposite of the value of X on the K-means objective which is Sum of distances of samples to their closest cluster center):\n",
      "-1548.9083251953125\n"
     ]
    }
   ],
   "source": [
    "onl_obj = set(only_smells).intersection(set(filtered_all_data['smell']))\n",
    "\n",
    "X = kv[onl_obj]\n",
    "\n",
    "kmeans = cluster.KMeans(n_clusters=n_clusters)\n",
    "kmeans.fit(X)\n",
    "\n",
    "labels = kmeans.labels_\n",
    "centroids = kmeans.cluster_centers_\n",
    " \n",
    "print (\"Cluster id labels for inputted data\")\n",
    "print (labels)\n",
    "# print (\"Centroids data\")\n",
    "# print (centroids)\n",
    " \n",
    "print (\"Score (Opposite of the value of X on the K-means objective which is Sum of distances of samples to their closest cluster center):\")\n",
    "print (kmeans.score(X))\n",
    " \n",
    "# silhouette_score = metrics.silhouette_score(X, labels, metric='euclidean')\n",
    " \n",
    "# print (\"Silhouette_score: \")\n",
    "# print (silhouette_score)"
   ]
  },
  {
   "cell_type": "code",
   "execution_count": 49,
   "id": "03c86a42-5f18-40bd-8e3e-a1faa44ba718",
   "metadata": {},
   "outputs": [
    {
     "data": {
      "application/vnd.jupyter.widget-view+json": {
       "model_id": "06fa17dafabb4e6088ebcca228737934",
       "version_major": 2,
       "version_minor": 0
      },
      "text/plain": [
       "  0%|          | 0/1926 [00:00<?, ?it/s]"
      ]
     },
     "metadata": {},
     "output_type": "display_data"
    },
    {
     "data": {
      "application/vnd.jupyter.widget-view+json": {
       "model_id": "72578d4cd96f47538ef6a5eecae8ceab",
       "version_major": 2,
       "version_minor": 0
      },
      "text/plain": [
       "  0%|          | 0/1926 [00:00<?, ?it/s]"
      ]
     },
     "metadata": {},
     "output_type": "display_data"
    }
   ],
   "source": [
    "classes = [all_classes[t] for t in tqdm(onl_obj)]\n",
    "top_classes = []\n",
    "for c in tqdm(classes):\n",
    "    top_classes.append(flatten_concatenation([get_top_concept(s) for s in c]))"
   ]
  },
  {
   "cell_type": "code",
   "execution_count": 50,
   "id": "3a3c6f1b-8dc4-4dbb-8d6f-f12a48e2e40d",
   "metadata": {},
   "outputs": [
    {
     "data": {
      "text/plain": [
       "(0.33716285662560824, 0.5155211579474414, 0.4076881548003032)"
      ]
     },
     "execution_count": 50,
     "metadata": {},
     "output_type": "execute_result"
    }
   ],
   "source": [
    "priorities = []\n",
    "for clust in set(labels):\n",
    "    ps = np.where(labels==clust)[0]\n",
    "    members = flatten_concatenation([classes[x] for x in ps])\n",
    "    counting = dict(Counter(members))\n",
    "    priority = sorted([id for id in counting.items()],key=lambda a: a[1], reverse= True)\n",
    "    priority = [a[0] for a in priority]\n",
    "    priorities.append(priority)\n",
    "    \n",
    "classes_flat = []\n",
    "for i, x in enumerate(classes):\n",
    "    if len(x) == 1:\n",
    "        classes_flat.append(x[0])\n",
    "    else:\n",
    "        done = False\n",
    "        for p in priorities[labels[i]]:\n",
    "            if p in x:\n",
    "                classes_flat.append(p)\n",
    "                done = True\n",
    "                break\n",
    "        if not done:\n",
    "            print('error')\n",
    "\n",
    "homogeneity_completeness_v_measure(classes_flat, labels)"
   ]
  },
  {
   "cell_type": "code",
   "execution_count": 51,
   "id": "7a3e3750-412c-44fe-8599-14fc7b12215a",
   "metadata": {
    "scrolled": true
   },
   "outputs": [
    {
     "data": {
      "text/plain": [
       "(0.2710873167996885, 0.15912656201156286, 0.20053835941540832)"
      ]
     },
     "execution_count": 51,
     "metadata": {},
     "output_type": "execute_result"
    }
   ],
   "source": [
    "priorities = []\n",
    "for clust in set(labels):\n",
    "    ps = np.where(labels==clust)[0]\n",
    "    members = flatten_concatenation([top_classes[x] for x in ps])\n",
    "    counting = dict(Counter(members))\n",
    "    priority = sorted([id for id in counting.items()],key=lambda a: a[1], reverse= True)\n",
    "    priority = [a[0] for a in priority]\n",
    "    priorities.append(priority)\n",
    "    \n",
    "classes_flat = []\n",
    "for i, x in enumerate(top_classes):\n",
    "    if len(x) == 1:\n",
    "        classes_flat.append(x[0])\n",
    "    else:\n",
    "        done = False\n",
    "        \n",
    "        for p in priorities[labels[i]]:\n",
    "            if p in x:\n",
    "                classes_flat.append(p)\n",
    "                done = True\n",
    "                break\n",
    "        if not done:\n",
    "            classes_flat.append('other')\n",
    "\n",
    "homogeneity_completeness_v_measure(classes_flat, labels)"
   ]
  }
 ],
 "metadata": {
  "kernelspec": {
   "display_name": "Python 3 (ipykernel)",
   "language": "python",
   "name": "python3"
  },
  "language_info": {
   "codemirror_mode": {
    "name": "ipython",
    "version": 3
   },
   "file_extension": ".py",
   "mimetype": "text/x-python",
   "name": "python",
   "nbconvert_exporter": "python",
   "pygments_lexer": "ipython3",
   "version": "3.10.14"
  }
 },
 "nbformat": 4,
 "nbformat_minor": 5
}
