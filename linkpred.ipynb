{
 "cells": [
  {
   "cell_type": "code",
   "execution_count": 2,
   "id": "db992628-4f5f-4343-9ded-98905b269b7f",
   "metadata": {},
   "outputs": [
    {
     "ename": "ModuleNotFoundError",
     "evalue": "No module named 'pyrdf2vec'",
     "output_type": "error",
     "traceback": [
      "\u001b[0;31m---------------------------------------------------------------------------\u001b[0m",
      "\u001b[0;31mModuleNotFoundError\u001b[0m                       Traceback (most recent call last)",
      "Cell \u001b[0;32mIn[2], line 1\u001b[0m\n\u001b[0;32m----> 1\u001b[0m \u001b[38;5;28;01mfrom\u001b[39;00m \u001b[38;5;21;01mpyrdf2vec\u001b[39;00m \u001b[38;5;28;01mimport\u001b[39;00m RDF2VecTransformer\n",
      "\u001b[0;31mModuleNotFoundError\u001b[0m: No module named 'pyrdf2vec'"
     ]
    }
   ],
   "source": [
    "from pyrdf2vec import RDF2VecTransformer"
   ]
  },
  {
   "cell_type": "code",
   "execution_count": 3,
   "id": "247028a1-cc34-42bc-ae7b-decaa83a5ad9",
   "metadata": {},
   "outputs": [
    {
     "ename": "NameError",
     "evalue": "name 'RDF2VecTransformer' is not defined",
     "output_type": "error",
     "traceback": [
      "\u001b[0;31m---------------------------------------------------------------------------\u001b[0m",
      "\u001b[0;31mNameError\u001b[0m                                 Traceback (most recent call last)",
      "Cell \u001b[0;32mIn[3], line 1\u001b[0m\n\u001b[0;32m----> 1\u001b[0m r2v \u001b[38;5;241m=\u001b[39m \u001b[43mRDF2VecTransformer\u001b[49m\u001b[38;5;241m.\u001b[39mload(\u001b[38;5;124m'\u001b[39m\u001b[38;5;124membeddings/transformer_data\u001b[39m\u001b[38;5;124m'\u001b[39m)\n",
      "\u001b[0;31mNameError\u001b[0m: name 'RDF2VecTransformer' is not defined"
     ]
    }
   ],
   "source": [
    "r2v = RDF2VecTransformer.load('embeddings/transformer_data')"
   ]
  },
  {
   "cell_type": "code",
   "execution_count": 8,
   "id": "e5b45aa3-fe20-4a67-8189-7e254ad5e35e",
   "metadata": {},
   "outputs": [
    {
     "name": "stdout",
     "output_type": "stream",
     "text": [
      "Requirement already satisfied: tqdm in /opt/homebrew/lib/python3.11/site-packages (4.65.0)\n"
     ]
    },
    {
     "ename": "ModuleNotFoundError",
     "evalue": "No module named 'tqdm'",
     "output_type": "error",
     "traceback": [
      "\u001b[0;31m---------------------------------------------------------------------------\u001b[0m",
      "\u001b[0;31mModuleNotFoundError\u001b[0m                       Traceback (most recent call last)",
      "Cell \u001b[0;32mIn[8], line 2\u001b[0m\n\u001b[1;32m      1\u001b[0m get_ipython()\u001b[38;5;241m.\u001b[39msystem(\u001b[38;5;124m'\u001b[39m\u001b[38;5;124mpip install tqdm\u001b[39m\u001b[38;5;124m'\u001b[39m)\n\u001b[0;32m----> 2\u001b[0m \u001b[38;5;28;01mimport\u001b[39;00m \u001b[38;5;21;01mtqdm\u001b[39;00m\n",
      "\u001b[0;31mModuleNotFoundError\u001b[0m: No module named 'tqdm'"
     ]
    }
   ],
   "source": [
    "!pip install tqdm\n",
    "import tqdm"
   ]
  },
  {
   "cell_type": "code",
   "execution_count": 4,
   "id": "17483fb4-fa4a-49e9-bfaa-8305c19b5ebe",
   "metadata": {},
   "outputs": [],
   "source": [
    "import sys\n",
    "sys.path.append('/opt/homebrew/lib/python3.11/site-packages')"
   ]
  },
  {
   "cell_type": "code",
   "execution_count": 15,
   "id": "2e7c3884-06a7-4365-8cd2-8698df62154d",
   "metadata": {},
   "outputs": [
    {
     "data": {
      "text/plain": [
       "rdf2vec._rdf2vec.RDF2VecTransformer"
      ]
     },
     "execution_count": 15,
     "metadata": {},
     "output_type": "execute_result"
    }
   ],
   "source": [
    "RDF2VecTransformer"
   ]
  },
  {
   "cell_type": "code",
   "execution_count": 5,
   "id": "9f451fda-8a2f-417d-acd8-b07830478254",
   "metadata": {},
   "outputs": [
    {
     "name": "stdout",
     "output_type": "stream",
     "text": [
      "Collecting pyrdf2vec==0.2.3\n",
      "  Using cached pyrdf2vec-0.2.3-py3-none-any.whl (57 kB)\n",
      "Collecting attrs<22.0.0,>=21.2.0 (from pyrdf2vec==0.2.3)\n",
      "  Using cached attrs-21.4.0-py2.py3-none-any.whl (60 kB)\n",
      "Collecting cachetools<5.0.0,>=4.2.2 (from pyrdf2vec==0.2.3)\n",
      "  Using cached cachetools-4.2.4-py3-none-any.whl (10 kB)\n",
      "Collecting matplotlib<4.0.0,>=3.4.2 (from pyrdf2vec==0.2.3)\n",
      "  Obtaining dependency information for matplotlib<4.0.0,>=3.4.2 from https://files.pythonhosted.org/packages/af/f3/fb27b3b902fc759bbca3f9d0336c48069c3022e57552c4b0095d997c7ea8/matplotlib-3.8.0-cp311-cp311-macosx_11_0_arm64.whl.metadata\n",
      "  Using cached matplotlib-3.8.0-cp311-cp311-macosx_11_0_arm64.whl.metadata (5.8 kB)\n",
      "Collecting networkx<3.0.0,>=2.5.1 (from pyrdf2vec==0.2.3)\n",
      "  Using cached networkx-2.8.8-py3-none-any.whl (2.0 MB)\n",
      "Collecting python-Levenshtein<0.13.0,>=0.12.2 (from pyrdf2vec==0.2.3)\n",
      "  Using cached python-Levenshtein-0.12.2.tar.gz (50 kB)\n",
      "  Installing build dependencies ... \u001b[?25ldone\n",
      "\u001b[?25h  Getting requirements to build wheel ... \u001b[?25ldone\n",
      "\u001b[?25h  Preparing metadata (pyproject.toml) ... \u001b[?25ldone\n",
      "\u001b[?25hCollecting python-louvain<0.16,>=0.15 (from pyrdf2vec==0.2.3)\n",
      "  Using cached python-louvain-0.15.tar.gz (204 kB)\n",
      "  Installing build dependencies ... \u001b[?25ldone\n",
      "\u001b[?25h  Getting requirements to build wheel ... \u001b[?25ldone\n",
      "\u001b[?25h  Preparing metadata (pyproject.toml) ... \u001b[?25ldone\n",
      "\u001b[?25hCollecting tomlkit<0.8.0,>=0.7.2 (from pyrdf2vec==0.2.3)\n",
      "  Using cached tomlkit-0.7.2-py2.py3-none-any.whl (32 kB)\n",
      "INFO: pip is looking at multiple versions of pyrdf2vec to determine which version is compatible with other requirements. This could take a while.\n",
      "\u001b[31mERROR: Could not find a version that satisfies the requirement torch<2.0.0,>=1.8.1 (from pyrdf2vec) (from versions: 2.0.0, 2.0.1)\u001b[0m\u001b[31m\n",
      "\u001b[0m\u001b[31mERROR: No matching distribution found for torch<2.0.0,>=1.8.1\u001b[0m\u001b[31m\n",
      "\u001b[0mNote: you may need to restart the kernel to use updated packages.\n"
     ]
    }
   ],
   "source": [
    "%pip install pyrdf2vec==0.2.3"
   ]
  },
  {
   "cell_type": "code",
   "execution_count": 4,
   "id": "f715b0ea-8b07-4b7b-80e7-09a359baa66a",
   "metadata": {},
   "outputs": [
    {
     "name": "stdout",
     "output_type": "stream",
     "text": [
      "\u001b[31mERROR: Could not find a version that satisfies the requirement torch==1.8.1 (from versions: 2.0.0, 2.0.1)\u001b[0m\u001b[31m\n",
      "\u001b[0m\u001b[31mERROR: No matching distribution found for torch==1.8.1\u001b[0m\u001b[31m\n",
      "\u001b[0mNote: you may need to restart the kernel to use updated packages.\n"
     ]
    }
   ],
   "source": [
    "%pip install torch==1.8.1"
   ]
  },
  {
   "cell_type": "code",
   "execution_count": null,
   "id": "57fedfb0-a729-40ff-9a7d-2343af6af462",
   "metadata": {},
   "outputs": [],
   "source": []
  }
 ],
 "metadata": {
  "kernelspec": {
   "display_name": "jupemb",
   "language": "python",
   "name": "jupemb"
  },
  "language_info": {
   "codemirror_mode": {
    "name": "ipython",
    "version": 3
   },
   "file_extension": ".py",
   "mimetype": "text/x-python",
   "name": "python",
   "nbconvert_exporter": "python",
   "pygments_lexer": "ipython3",
   "version": "3.11.4"
  }
 },
 "nbformat": 4,
 "nbformat_minor": 5
}
